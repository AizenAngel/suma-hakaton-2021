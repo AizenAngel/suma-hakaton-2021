{
 "cells": [
  {
   "cell_type": "code",
   "execution_count": 103,
   "metadata": {},
   "outputs": [],
   "source": [
    "import torch\n",
    "import pandas as pd\n",
    "import numpy as np\n",
    "import math\n",
    "import seaborn as sb\n",
    "import matplotlib.pyplot as plt"
   ]
  },
  {
   "cell_type": "code",
   "execution_count": 104,
   "metadata": {},
   "outputs": [
    {
     "data": {
      "text/plain": [
       "(95758, 9)"
      ]
     },
     "execution_count": 104,
     "metadata": {},
     "output_type": "execute_result"
    }
   ],
   "source": [
    "data = pd.read_csv(\"C:\\\\Users\\\\Mihailo\\\\Desktop\\\\datasets\\\\SviPodaci_mStanica_BeogradStariGrad.csv\",  low_memory=False)\n",
    "data2 = pd.read_csv(\"C:\\\\Users\\\\Mihailo\\\\Desktop\\\\datasets\\\\SviPodaci_mStanica_BeogradNBG.csv\",  low_memory=False)\n",
    "\n",
    "size, numAttributes = data.shape\n",
    "size, numAttributes"
   ]
  },
  {
   "cell_type": "code",
   "execution_count": 105,
   "metadata": {},
   "outputs": [],
   "source": [
    "data.sort_values('Datum_i_Vreme', inplace=True)\n",
    "data2.sort_values('Datum_i_Vreme', inplace=True)"
   ]
  },
  {
   "cell_type": "code",
   "execution_count": 106,
   "metadata": {},
   "outputs": [
    {
     "name": "stdout",
     "output_type": "stream",
     "text": [
      "(97078, 9)\n",
      "95758\n"
     ]
    }
   ],
   "source": [
    "print(data2.shape)\n",
    "print(size)"
   ]
  },
  {
   "cell_type": "code",
   "execution_count": 107,
   "metadata": {},
   "outputs": [
    {
     "data": {
      "text/plain": [
       "Index(['Datum_i_Vreme', 'MernaStanica', 'B', 'CO', 'NO2', 'O3', 'PM10', 'PM25',\n",
       "       'SO2'],\n",
       "      dtype='object')"
      ]
     },
     "execution_count": 107,
     "metadata": {},
     "output_type": "execute_result"
    }
   ],
   "source": [
    "data.columns"
   ]
  },
  {
   "cell_type": "code",
   "execution_count": 108,
   "metadata": {},
   "outputs": [
    {
     "data": {
      "text/plain": [
       "Datum_i_Vreme        0\n",
       "MernaStanica         0\n",
       "B                51179\n",
       "CO                4766\n",
       "NO2              10358\n",
       "O3               19363\n",
       "PM10             13955\n",
       "PM25             13912\n",
       "SO2               9820\n",
       "dtype: int64"
      ]
     },
     "execution_count": 108,
     "metadata": {},
     "output_type": "execute_result"
    }
   ],
   "source": [
    "data2.isna().sum()"
   ]
  },
  {
   "cell_type": "code",
   "execution_count": 109,
   "metadata": {},
   "outputs": [
    {
     "data": {
      "text/html": [
       "<div>\n",
       "<style scoped>\n",
       "    .dataframe tbody tr th:only-of-type {\n",
       "        vertical-align: middle;\n",
       "    }\n",
       "\n",
       "    .dataframe tbody tr th {\n",
       "        vertical-align: top;\n",
       "    }\n",
       "\n",
       "    .dataframe thead th {\n",
       "        text-align: right;\n",
       "    }\n",
       "</style>\n",
       "<table border=\"1\" class=\"dataframe\">\n",
       "  <thead>\n",
       "    <tr style=\"text-align: right;\">\n",
       "      <th></th>\n",
       "      <th>B</th>\n",
       "      <th>CO</th>\n",
       "      <th>NO2</th>\n",
       "      <th>O3</th>\n",
       "      <th>PM10</th>\n",
       "      <th>PM25</th>\n",
       "      <th>SO2</th>\n",
       "    </tr>\n",
       "  </thead>\n",
       "  <tbody>\n",
       "    <tr>\n",
       "      <th>count</th>\n",
       "      <td>4.589900e+04</td>\n",
       "      <td>9.231200e+04</td>\n",
       "      <td>8.672000e+04</td>\n",
       "      <td>7.771500e+04</td>\n",
       "      <td>8.312300e+04</td>\n",
       "      <td>8.316600e+04</td>\n",
       "      <td>8.725800e+04</td>\n",
       "    </tr>\n",
       "    <tr>\n",
       "      <th>mean</th>\n",
       "      <td>-1.043618e+27</td>\n",
       "      <td>-1.914498e+25</td>\n",
       "      <td>-3.346551e+25</td>\n",
       "      <td>-3.894596e+25</td>\n",
       "      <td>-1.774821e+26</td>\n",
       "      <td>-1.773906e+26</td>\n",
       "      <td>-4.730752e+25</td>\n",
       "    </tr>\n",
       "    <tr>\n",
       "      <th>std</th>\n",
       "      <td>2.235853e+29</td>\n",
       "      <td>5.816797e+27</td>\n",
       "      <td>9.855010e+27</td>\n",
       "      <td>1.085712e+28</td>\n",
       "      <td>5.116997e+28</td>\n",
       "      <td>5.115683e+28</td>\n",
       "      <td>1.397439e+28</td>\n",
       "    </tr>\n",
       "    <tr>\n",
       "      <th>min</th>\n",
       "      <td>-4.790103e+31</td>\n",
       "      <td>-1.767311e+30</td>\n",
       "      <td>-2.902129e+30</td>\n",
       "      <td>-3.026685e+30</td>\n",
       "      <td>-1.475285e+31</td>\n",
       "      <td>-1.475287e+31</td>\n",
       "      <td>-4.127960e+30</td>\n",
       "    </tr>\n",
       "    <tr>\n",
       "      <th>25%</th>\n",
       "      <td>2.405672e-01</td>\n",
       "      <td>2.688711e-01</td>\n",
       "      <td>1.429574e+01</td>\n",
       "      <td>1.321868e+01</td>\n",
       "      <td>1.560000e+01</td>\n",
       "      <td>8.955949e+00</td>\n",
       "      <td>8.010859e+00</td>\n",
       "    </tr>\n",
       "    <tr>\n",
       "      <th>50%</th>\n",
       "      <td>6.800000e-01</td>\n",
       "      <td>4.500000e-01</td>\n",
       "      <td>2.400000e+01</td>\n",
       "      <td>3.584544e+01</td>\n",
       "      <td>2.520000e+01</td>\n",
       "      <td>1.684189e+01</td>\n",
       "      <td>1.396176e+01</td>\n",
       "    </tr>\n",
       "    <tr>\n",
       "      <th>75%</th>\n",
       "      <td>1.670000e+00</td>\n",
       "      <td>7.477865e-01</td>\n",
       "      <td>4.030000e+01</td>\n",
       "      <td>6.220000e+01</td>\n",
       "      <td>4.035719e+01</td>\n",
       "      <td>3.154686e+01</td>\n",
       "      <td>2.578732e+01</td>\n",
       "    </tr>\n",
       "    <tr>\n",
       "      <th>max</th>\n",
       "      <td>3.246900e+11</td>\n",
       "      <td>9.319200e+10</td>\n",
       "      <td>1.530320e+11</td>\n",
       "      <td>1.596000e+11</td>\n",
       "      <td>1.000000e+11</td>\n",
       "      <td>1.000000e+11</td>\n",
       "      <td>4.631304e+10</td>\n",
       "    </tr>\n",
       "  </tbody>\n",
       "</table>\n",
       "</div>"
      ],
      "text/plain": [
       "                  B            CO           NO2            O3          PM10  \\\n",
       "count  4.589900e+04  9.231200e+04  8.672000e+04  7.771500e+04  8.312300e+04   \n",
       "mean  -1.043618e+27 -1.914498e+25 -3.346551e+25 -3.894596e+25 -1.774821e+26   \n",
       "std    2.235853e+29  5.816797e+27  9.855010e+27  1.085712e+28  5.116997e+28   \n",
       "min   -4.790103e+31 -1.767311e+30 -2.902129e+30 -3.026685e+30 -1.475285e+31   \n",
       "25%    2.405672e-01  2.688711e-01  1.429574e+01  1.321868e+01  1.560000e+01   \n",
       "50%    6.800000e-01  4.500000e-01  2.400000e+01  3.584544e+01  2.520000e+01   \n",
       "75%    1.670000e+00  7.477865e-01  4.030000e+01  6.220000e+01  4.035719e+01   \n",
       "max    3.246900e+11  9.319200e+10  1.530320e+11  1.596000e+11  1.000000e+11   \n",
       "\n",
       "               PM25           SO2  \n",
       "count  8.316600e+04  8.725800e+04  \n",
       "mean  -1.773906e+26 -4.730752e+25  \n",
       "std    5.115683e+28  1.397439e+28  \n",
       "min   -1.475287e+31 -4.127960e+30  \n",
       "25%    8.955949e+00  8.010859e+00  \n",
       "50%    1.684189e+01  1.396176e+01  \n",
       "75%    3.154686e+01  2.578732e+01  \n",
       "max    1.000000e+11  4.631304e+10  "
      ]
     },
     "execution_count": 109,
     "metadata": {},
     "output_type": "execute_result"
    }
   ],
   "source": [
    "info= data2.describe()\n",
    "info"
   ]
  },
  {
   "cell_type": "code",
   "execution_count": 110,
   "metadata": {},
   "outputs": [],
   "source": [
    "data2 = data2.drop('B', axis=1)\n",
    "info2 = data2.describe()\n",
    "info2\n",
    "data = data.drop('B', axis=1)"
   ]
  },
  {
   "cell_type": "code",
   "execution_count": 111,
   "metadata": {},
   "outputs": [],
   "source": [
    "def values(data, name, upper_bound):\n",
    "    for i in range(size):\n",
    "        if data[name][i] <0.0:\n",
    "            data[name][i] = 0.0\n",
    "        elif data[name][i] > 2*upper_bound:\n",
    "            data[name][i] = np.NaN\n",
    "        elif data[name][i] > upper_bound:\n",
    "            data[name][i] = upper_bound"
   ]
  },
  {
   "cell_type": "code",
   "execution_count": 112,
   "metadata": {
    "scrolled": true
   },
   "outputs": [
    {
     "name": "stderr",
     "output_type": "stream",
     "text": [
      "<ipython-input-111-0e59cdfc2ad0>:4: SettingWithCopyWarning: \n",
      "A value is trying to be set on a copy of a slice from a DataFrame\n",
      "\n",
      "See the caveats in the documentation: https://pandas.pydata.org/pandas-docs/stable/user_guide/indexing.html#returning-a-view-versus-a-copy\n",
      "  data[name][i] = 0.0\n",
      "<ipython-input-111-0e59cdfc2ad0>:6: SettingWithCopyWarning: \n",
      "A value is trying to be set on a copy of a slice from a DataFrame\n",
      "\n",
      "See the caveats in the documentation: https://pandas.pydata.org/pandas-docs/stable/user_guide/indexing.html#returning-a-view-versus-a-copy\n",
      "  data[name][i] = np.NaN\n",
      "<ipython-input-111-0e59cdfc2ad0>:8: SettingWithCopyWarning: \n",
      "A value is trying to be set on a copy of a slice from a DataFrame\n",
      "\n",
      "See the caveats in the documentation: https://pandas.pydata.org/pandas-docs/stable/user_guide/indexing.html#returning-a-view-versus-a-copy\n",
      "  data[name][i] = upper_bound\n"
     ]
    }
   ],
   "source": [
    "for (name, upper_bound) in zip(['CO', 'NO2', 'O3', 'PM10', 'PM25', 'SO2'], [57.708, 3852.12, 1208, 604, 500.4, 2630.48]):\n",
    "    values(data2, name, upper_bound)\n",
    "    values(data, name, upper_bound)\n"
   ]
  },
  {
   "cell_type": "code",
   "execution_count": 113,
   "metadata": {
    "scrolled": true
   },
   "outputs": [
    {
     "data": {
      "text/html": [
       "<div>\n",
       "<style scoped>\n",
       "    .dataframe tbody tr th:only-of-type {\n",
       "        vertical-align: middle;\n",
       "    }\n",
       "\n",
       "    .dataframe tbody tr th {\n",
       "        vertical-align: top;\n",
       "    }\n",
       "\n",
       "    .dataframe thead th {\n",
       "        text-align: right;\n",
       "    }\n",
       "</style>\n",
       "<table border=\"1\" class=\"dataframe\">\n",
       "  <thead>\n",
       "    <tr style=\"text-align: right;\">\n",
       "      <th></th>\n",
       "      <th>CO</th>\n",
       "      <th>NO2</th>\n",
       "      <th>O3</th>\n",
       "      <th>PM10</th>\n",
       "      <th>PM25</th>\n",
       "      <th>SO2</th>\n",
       "    </tr>\n",
       "  </thead>\n",
       "  <tbody>\n",
       "    <tr>\n",
       "      <th>count</th>\n",
       "      <td>92309.000000</td>\n",
       "      <td>86717.000000</td>\n",
       "      <td>77712.000000</td>\n",
       "      <td>83110.000000</td>\n",
       "      <td>83153.000000</td>\n",
       "      <td>87256.000000</td>\n",
       "    </tr>\n",
       "    <tr>\n",
       "      <th>mean</th>\n",
       "      <td>0.588866</td>\n",
       "      <td>32.954721</td>\n",
       "      <td>41.401098</td>\n",
       "      <td>33.487509</td>\n",
       "      <td>25.641568</td>\n",
       "      <td>20.487161</td>\n",
       "    </tr>\n",
       "    <tr>\n",
       "      <th>std</th>\n",
       "      <td>0.517858</td>\n",
       "      <td>32.189160</td>\n",
       "      <td>33.796315</td>\n",
       "      <td>28.875019</td>\n",
       "      <td>26.949538</td>\n",
       "      <td>21.959612</td>\n",
       "    </tr>\n",
       "    <tr>\n",
       "      <th>min</th>\n",
       "      <td>-0.578290</td>\n",
       "      <td>0.000000</td>\n",
       "      <td>-0.047658</td>\n",
       "      <td>0.000000</td>\n",
       "      <td>-1.723289</td>\n",
       "      <td>-28.562240</td>\n",
       "    </tr>\n",
       "    <tr>\n",
       "      <th>25%</th>\n",
       "      <td>0.268869</td>\n",
       "      <td>14.294942</td>\n",
       "      <td>13.218191</td>\n",
       "      <td>15.600000</td>\n",
       "      <td>8.953837</td>\n",
       "      <td>8.010561</td>\n",
       "    </tr>\n",
       "    <tr>\n",
       "      <th>50%</th>\n",
       "      <td>0.450000</td>\n",
       "      <td>24.000000</td>\n",
       "      <td>35.844331</td>\n",
       "      <td>25.197092</td>\n",
       "      <td>16.837572</td>\n",
       "      <td>13.960932</td>\n",
       "    </tr>\n",
       "    <tr>\n",
       "      <th>75%</th>\n",
       "      <td>0.747709</td>\n",
       "      <td>40.300000</td>\n",
       "      <td>62.200000</td>\n",
       "      <td>40.346531</td>\n",
       "      <td>31.536702</td>\n",
       "      <td>25.785598</td>\n",
       "    </tr>\n",
       "    <tr>\n",
       "      <th>max</th>\n",
       "      <td>17.893042</td>\n",
       "      <td>441.613418</td>\n",
       "      <td>1208.000000</td>\n",
       "      <td>485.000000</td>\n",
       "      <td>336.527765</td>\n",
       "      <td>793.947108</td>\n",
       "    </tr>\n",
       "  </tbody>\n",
       "</table>\n",
       "</div>"
      ],
      "text/plain": [
       "                 CO           NO2            O3          PM10          PM25  \\\n",
       "count  92309.000000  86717.000000  77712.000000  83110.000000  83153.000000   \n",
       "mean       0.588866     32.954721     41.401098     33.487509     25.641568   \n",
       "std        0.517858     32.189160     33.796315     28.875019     26.949538   \n",
       "min       -0.578290      0.000000     -0.047658      0.000000     -1.723289   \n",
       "25%        0.268869     14.294942     13.218191     15.600000      8.953837   \n",
       "50%        0.450000     24.000000     35.844331     25.197092     16.837572   \n",
       "75%        0.747709     40.300000     62.200000     40.346531     31.536702   \n",
       "max       17.893042    441.613418   1208.000000    485.000000    336.527765   \n",
       "\n",
       "                SO2  \n",
       "count  87256.000000  \n",
       "mean      20.487161  \n",
       "std       21.959612  \n",
       "min      -28.562240  \n",
       "25%        8.010561  \n",
       "50%       13.960932  \n",
       "75%       25.785598  \n",
       "max      793.947108  "
      ]
     },
     "execution_count": 113,
     "metadata": {},
     "output_type": "execute_result"
    }
   ],
   "source": [
    "data2.describe()"
   ]
  },
  {
   "cell_type": "code",
   "execution_count": 114,
   "metadata": {},
   "outputs": [
    {
     "data": {
      "text/html": [
       "<div>\n",
       "<style scoped>\n",
       "    .dataframe tbody tr th:only-of-type {\n",
       "        vertical-align: middle;\n",
       "    }\n",
       "\n",
       "    .dataframe tbody tr th {\n",
       "        vertical-align: top;\n",
       "    }\n",
       "\n",
       "    .dataframe thead th {\n",
       "        text-align: right;\n",
       "    }\n",
       "</style>\n",
       "<table border=\"1\" class=\"dataframe\">\n",
       "  <thead>\n",
       "    <tr style=\"text-align: right;\">\n",
       "      <th></th>\n",
       "      <th>CO</th>\n",
       "      <th>NO2</th>\n",
       "      <th>O3</th>\n",
       "      <th>PM10</th>\n",
       "      <th>PM25</th>\n",
       "      <th>SO2</th>\n",
       "    </tr>\n",
       "  </thead>\n",
       "  <tbody>\n",
       "    <tr>\n",
       "      <th>count</th>\n",
       "      <td>91231.000000</td>\n",
       "      <td>89393.000000</td>\n",
       "      <td>89752.000000</td>\n",
       "      <td>87470.000000</td>\n",
       "      <td>87470.000000</td>\n",
       "      <td>50454.000000</td>\n",
       "    </tr>\n",
       "    <tr>\n",
       "      <th>mean</th>\n",
       "      <td>0.558184</td>\n",
       "      <td>38.160811</td>\n",
       "      <td>39.826229</td>\n",
       "      <td>33.740650</td>\n",
       "      <td>24.831128</td>\n",
       "      <td>27.160501</td>\n",
       "    </tr>\n",
       "    <tr>\n",
       "      <th>std</th>\n",
       "      <td>0.532033</td>\n",
       "      <td>36.231352</td>\n",
       "      <td>32.969283</td>\n",
       "      <td>29.888423</td>\n",
       "      <td>27.086794</td>\n",
       "      <td>61.618592</td>\n",
       "    </tr>\n",
       "    <tr>\n",
       "      <th>min</th>\n",
       "      <td>0.000000</td>\n",
       "      <td>0.000000</td>\n",
       "      <td>0.000000</td>\n",
       "      <td>0.000000</td>\n",
       "      <td>0.000000</td>\n",
       "      <td>0.000000</td>\n",
       "    </tr>\n",
       "    <tr>\n",
       "      <th>25%</th>\n",
       "      <td>0.230000</td>\n",
       "      <td>15.645928</td>\n",
       "      <td>13.373913</td>\n",
       "      <td>15.700000</td>\n",
       "      <td>8.712275</td>\n",
       "      <td>5.846430</td>\n",
       "    </tr>\n",
       "    <tr>\n",
       "      <th>50%</th>\n",
       "      <td>0.402541</td>\n",
       "      <td>27.077631</td>\n",
       "      <td>34.000000</td>\n",
       "      <td>26.000000</td>\n",
       "      <td>16.500000</td>\n",
       "      <td>10.888785</td>\n",
       "    </tr>\n",
       "    <tr>\n",
       "      <th>75%</th>\n",
       "      <td>0.755374</td>\n",
       "      <td>47.222327</td>\n",
       "      <td>58.713542</td>\n",
       "      <td>41.190688</td>\n",
       "      <td>30.249106</td>\n",
       "      <td>23.449669</td>\n",
       "    </tr>\n",
       "    <tr>\n",
       "      <th>max</th>\n",
       "      <td>15.023859</td>\n",
       "      <td>777.361649</td>\n",
       "      <td>1208.000000</td>\n",
       "      <td>604.000000</td>\n",
       "      <td>408.075758</td>\n",
       "      <td>924.378962</td>\n",
       "    </tr>\n",
       "  </tbody>\n",
       "</table>\n",
       "</div>"
      ],
      "text/plain": [
       "                 CO           NO2            O3          PM10          PM25  \\\n",
       "count  91231.000000  89393.000000  89752.000000  87470.000000  87470.000000   \n",
       "mean       0.558184     38.160811     39.826229     33.740650     24.831128   \n",
       "std        0.532033     36.231352     32.969283     29.888423     27.086794   \n",
       "min        0.000000      0.000000      0.000000      0.000000      0.000000   \n",
       "25%        0.230000     15.645928     13.373913     15.700000      8.712275   \n",
       "50%        0.402541     27.077631     34.000000     26.000000     16.500000   \n",
       "75%        0.755374     47.222327     58.713542     41.190688     30.249106   \n",
       "max       15.023859    777.361649   1208.000000    604.000000    408.075758   \n",
       "\n",
       "                SO2  \n",
       "count  50454.000000  \n",
       "mean      27.160501  \n",
       "std       61.618592  \n",
       "min        0.000000  \n",
       "25%        5.846430  \n",
       "50%       10.888785  \n",
       "75%       23.449669  \n",
       "max      924.378962  "
      ]
     },
     "execution_count": 114,
     "metadata": {},
     "output_type": "execute_result"
    }
   ],
   "source": [
    "data.describe()"
   ]
  },
  {
   "cell_type": "code",
   "execution_count": 13,
   "metadata": {},
   "outputs": [],
   "source": [
    "\"\"\"\"def autlajeri(data, n = 3.0, step=48):\n",
    "    fig = plt.figure(figsize=(70, 70))\n",
    "    j = 1\n",
    "    for name, color in zip(['CO', 'NO2', 'O3', 'PM10', 'PM25', 'SO2'], ['red', 'green', 'blue', 'orange', 'purple', 'black', 'cyan']):\n",
    "        fig.add_subplot(7, 1, j)\n",
    "        j = j+1\n",
    "\n",
    "        q1 = info[name]['25%']\n",
    "        q3 = info[name]['75%']\n",
    "        IQR = q3-q1\n",
    "        x = data[name][lambda a : a > SO2_q1-n*IQR]\n",
    "        x = x[lambda a : a < SO2_q3 + n*IQR]\n",
    "        autlajeri_donji = lambda a : (a < SO2_q1-n*IQR)\n",
    "        autlajeri_gornji = lambda a : (a > SO2_q3+n*IQR)\n",
    "\n",
    "        for i in range(size):\n",
    "            x = data[name][i]\n",
    "            if autlajeri_donji(x) or x < 0.0 :\n",
    "                data[name][i] = 0.0\n",
    "            elif autlajeri_gornji(x) :\n",
    "                data[name][i] =  SO2_q3+n*IQR\n",
    "\n",
    "        x = data[name][::step]\n",
    "        y = data['Datum_i_Vreme'][::step]\n",
    "        plt.plot(y, x, color=color)\n",
    "        plt.xticks([])\n",
    "\n",
    "    plt.show()\n",
    "    return data\n",
    "\"\"\"\""
   ]
  },
  {
   "cell_type": "code",
   "execution_count": 115,
   "metadata": {},
   "outputs": [],
   "source": [
    "def getNum(r1, r2):\n",
    "    for i in range(len(r1)):\n",
    "        x = r1[i]\n",
    "        y = r2[i]\n",
    "        if np.isnan(x):\n",
    "            r1[i] = y;\n",
    "        elif np.isnan(y):\n",
    "            r1[i] = x\n",
    "        else:\n",
    "            r1[i] = np.maximum(x, y)\n",
    "    return r1"
   ]
  },
  {
   "cell_type": "code",
   "execution_count": 116,
   "metadata": {
    "scrolled": true
   },
   "outputs": [
    {
     "name": "stderr",
     "output_type": "stream",
     "text": [
      "<ipython-input-115-41dced2254de>:10: SettingWithCopyWarning: \n",
      "A value is trying to be set on a copy of a slice from a DataFrame\n",
      "\n",
      "See the caveats in the documentation: https://pandas.pydata.org/pandas-docs/stable/user_guide/indexing.html#returning-a-view-versus-a-copy\n",
      "  r1[i] = np.maximum(x, y)\n",
      "<ipython-input-115-41dced2254de>:6: SettingWithCopyWarning: \n",
      "A value is trying to be set on a copy of a slice from a DataFrame\n",
      "\n",
      "See the caveats in the documentation: https://pandas.pydata.org/pandas-docs/stable/user_guide/indexing.html#returning-a-view-versus-a-copy\n",
      "  r1[i] = y;\n",
      "<ipython-input-115-41dced2254de>:8: SettingWithCopyWarning: \n",
      "A value is trying to be set on a copy of a slice from a DataFrame\n",
      "\n",
      "See the caveats in the documentation: https://pandas.pydata.org/pandas-docs/stable/user_guide/indexing.html#returning-a-view-versus-a-copy\n",
      "  r1[i] = x\n"
     ]
    },
    {
     "data": {
      "text/plain": [
       "Datum_i_Vreme       0\n",
       "CO                  9\n",
       "NO2              6164\n",
       "O3               3375\n",
       "PM10             4623\n",
       "PM25             4623\n",
       "SO2              5269\n",
       "dtype: int64"
      ]
     },
     "execution_count": 116,
     "metadata": {},
     "output_type": "execute_result"
    }
   ],
   "source": [
    "new_data = pd.merge_ordered(data2, data, on=['Datum_i_Vreme'], how='inner')\n",
    "\n",
    "#new_data['B'] = getNum(new_data['B_x'], new_data['B_y']);\n",
    "new_data['CO'] = getNum(new_data['CO_x'], new_data['CO_y']);\n",
    "new_data['NO2'] = getNum(new_data['NO2_x'], new_data['NO2_y']);\n",
    "new_data['O3'] = getNum(new_data['O3_x'], new_data['O3_y']);\n",
    "new_data['PM10'] = getNum(new_data['PM10_x'], new_data['PM10_y']);\n",
    "new_data['PM25'] = getNum(new_data['PM25_x'], new_data['PM25_y']);\n",
    "new_data['SO2'] = getNum(new_data['SO2_x'], new_data['SO2_y']);\n",
    "new_data = new_data.drop(['MernaStanica_x', 'MernaStanica_y', 'SO2_x', 'SO2_y', 'CO_x', 'NO2_x', 'O3_x', 'PM10_x', 'PM25_x', 'CO_y', 'NO2_y', 'O3_y', 'PM10_y', 'PM25_y'], axis=1)\n",
    "new_data.isna().sum()\n"
   ]
  },
  {
   "cell_type": "code",
   "execution_count": 117,
   "metadata": {},
   "outputs": [],
   "source": [
    "data = data.interpolate(method='linear', axis=0)\n",
    "data = data.bfill()\n"
   ]
  },
  {
   "cell_type": "code",
   "execution_count": 118,
   "metadata": {},
   "outputs": [
    {
     "name": "stdout",
     "output_type": "stream",
     "text": [
      "Datum_i_Vreme    0\n",
      "MernaStanica     0\n",
      "CO               0\n",
      "NO2              0\n",
      "O3               0\n",
      "PM10             0\n",
      "PM25             0\n",
      "SO2              0\n",
      "dtype: int64\n"
     ]
    }
   ],
   "source": [
    "print(data.isna().sum())"
   ]
  },
  {
   "cell_type": "code",
   "execution_count": 119,
   "metadata": {},
   "outputs": [],
   "source": [
    "data.to_csv('training_data4.csv')"
   ]
  },
  {
   "cell_type": "code",
   "execution_count": 121,
   "metadata": {},
   "outputs": [],
   "source": [
    "df = pd.read_csv('training_data4.csv')"
   ]
  },
  {
   "cell_type": "code",
   "execution_count": 122,
   "metadata": {},
   "outputs": [
    {
     "data": {
      "text/plain": [
       "Unnamed: 0       0\n",
       "Datum_i_Vreme    0\n",
       "MernaStanica     0\n",
       "CO               0\n",
       "NO2              0\n",
       "O3               0\n",
       "PM10             0\n",
       "PM25             0\n",
       "SO2              0\n",
       "dtype: int64"
      ]
     },
     "execution_count": 122,
     "metadata": {},
     "output_type": "execute_result"
    }
   ],
   "source": [
    "df.isna().sum()"
   ]
  },
  {
   "cell_type": "code",
   "execution_count": 123,
   "metadata": {},
   "outputs": [
    {
     "data": {
      "text/plain": [
       "95758"
      ]
     },
     "execution_count": 123,
     "metadata": {},
     "output_type": "execute_result"
    }
   ],
   "source": [
    "#print(df['Datum_i_Vreme'][::-1])\n",
    "len(df)"
   ]
  },
  {
   "cell_type": "code",
   "execution_count": null,
   "metadata": {},
   "outputs": [],
   "source": []
  }
 ],
 "metadata": {
  "kernelspec": {
   "display_name": "Python 3",
   "language": "python",
   "name": "python3"
  },
  "language_info": {
   "codemirror_mode": {
    "name": "ipython",
    "version": 3
   },
   "file_extension": ".py",
   "mimetype": "text/x-python",
   "name": "python",
   "nbconvert_exporter": "python",
   "pygments_lexer": "ipython3",
   "version": "3.8.5"
  }
 },
 "nbformat": 4,
 "nbformat_minor": 4
}
