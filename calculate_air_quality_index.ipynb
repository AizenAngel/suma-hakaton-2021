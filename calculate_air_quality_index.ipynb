{
 "cells": [
  {
   "cell_type": "code",
   "execution_count": 39,
   "metadata": {},
   "outputs": [],
   "source": [
    "# SO2 1 ppb = 2.62 µg/m3\n",
    "# NO2 1 ppb = 1.88 µg/m3\n",
    "# NO 1 ppb = 1.25 µg/m3\n",
    "# O3 1 ppb = 2.00 µg/m3\n",
    "# CO 1 ppb = 1.145 µg/m3\n",
    "# Benzene 1 ppb = 3.19 µg/m\n",
    "import numpy as np"
   ]
  },
  {
   "cell_type": "code",
   "execution_count": 40,
   "metadata": {},
   "outputs": [
    {
     "data": {
      "text/plain": [
       "1208.0"
      ]
     },
     "execution_count": 40,
     "metadata": {},
     "output_type": "execute_result"
    }
   ],
   "source": [
    "O3 = 604 * 2.00\n",
    "O3"
   ]
  },
  {
   "cell_type": "code",
   "execution_count": 41,
   "metadata": {},
   "outputs": [
    {
     "data": {
      "text/plain": [
       "57.708"
      ]
     },
     "execution_count": 41,
     "metadata": {},
     "output_type": "execute_result"
    }
   ],
   "source": [
    "CO = 50.4 * 1.145\n",
    "CO"
   ]
  },
  {
   "cell_type": "code",
   "execution_count": 42,
   "metadata": {},
   "outputs": [
    {
     "data": {
      "text/plain": [
       "2630.48"
      ]
     },
     "execution_count": 42,
     "metadata": {},
     "output_type": "execute_result"
    }
   ],
   "source": [
    "SO2 = 1004 * 2.62\n",
    "SO2"
   ]
  },
  {
   "cell_type": "code",
   "execution_count": 43,
   "metadata": {},
   "outputs": [
    {
     "data": {
      "text/plain": [
       "3852.12"
      ]
     },
     "execution_count": 43,
     "metadata": {},
     "output_type": "execute_result"
    }
   ],
   "source": [
    "NO2 = 2049 * 1.88\n",
    "NO2"
   ]
  },
  {
   "cell_type": "code",
   "execution_count": 44,
   "metadata": {},
   "outputs": [],
   "source": [
    "O3_bounds = np.array([ 54, 125, 165, 205, 405, 504, 604], dtype=np.float64) * 2.00\n",
    "PM25_bounds = np.array([12, 35.4, 55.4, 150.4, 250.4, 350.4, 500.4], dtype=np.float64)\n",
    "P10_bounds = np.array([54, 154, 254, 354, 424, 504, 604], dtype=np.float64)\n",
    "CO_bounds = np.array([4.4, 9.4, 12.4, 15.4, 30.4, 40.4, 50.4], dtype=np.float64) * 1.145\n",
    "SO2_bounds = np.array([35, 75, 185, 304, 604, 804, 1004], dtype=np.float64) * 2.62\n",
    "NO2_bounds = np.array([53, 100, 360, 649, 1249, 1649, 2049], dtype=np.float64) * 1.88\n",
    "\n",
    "I_bounds = np.array([50, 100, 150, 200, 300, 400, 500], dtype=np.float64)"
   ]
  },
  {
   "cell_type": "code",
   "execution_count": 45,
   "metadata": {},
   "outputs": [],
   "source": [
    "def calcI(Clow, Chigh, Ilow, Ihigh, C):\n",
    "    return ((Ihigh - Ilow) / (Chigh - Clow)) * (C - Clow) + Ilow"
   ]
  },
  {
   "cell_type": "code",
   "execution_count": 46,
   "metadata": {},
   "outputs": [],
   "source": [
    "def calcLowHigh(dataName, C):\n",
    "    if dataName == \"O3\":\n",
    "        index = np.searchsorted(O3_bounds, C)\n",
    "        Chigh = O3_bounds[index]\n",
    "        Clow = O3_bounds[max(index-1, 0)]\n",
    "        Ihigh = I_bounds[index]\n",
    "        Ilow = I_bounds[max(index-1, 0)]\n",
    "                             \n",
    "        return Clow, Chigh, Ilow, Ihigh\n",
    "    \n",
    "    if dataName == \"PM25\":\n",
    "        index = np.searchsorted(PM25_bounds, C)\n",
    "        Chigh = PM25_bounds[index]\n",
    "        Clow = PM25_bounds[max(index-1, 0)]\n",
    "        Ihigh = I_bounds[index]\n",
    "        Ilow = I_bounds[max(index-1, 0)]\n",
    "        return Clow, Chigh, Ilow, Ihigh  \n",
    "    \n",
    "    if dataName == \"PM10\":\n",
    "        index = np.searchsorted(PM10_bounds, C)\n",
    "        Chigh = PM10_bounds[index]\n",
    "        Clow = PM10_bounds[max(index-1, 0)]\n",
    "        Ihigh = I_bounds[index]\n",
    "        Ilow = I_bounds[max(index-1, 0)]\n",
    "        return Clow, Chigh, Ilow, Ihigh  \n",
    "    \n",
    "    if dataName == \"CO\":\n",
    "        index = np.searchsorted(CO_bounds, C)\n",
    "        Chigh = CO_bounds[index]\n",
    "        Clow = CO_bounds[max(index-1, 0)]\n",
    "        Ihigh = I_bounds[index]\n",
    "        Ilow = I_bounds[max(index-1, 0)]\n",
    "        return Clow, Chigh, Ilow, Ihigh  \n",
    "    \n",
    "    if dataName == \"SO2\":\n",
    "        index = np.searchsorted(SO2_bounds, C)\n",
    "        Chigh = SO2_bounds[index]\n",
    "        Clow = SO2_bounds[max(index-1, 0)]\n",
    "        Ihigh = I_bounds[index]\n",
    "        Ilow = I_bounds[max(index-1, 0)]\n",
    "        return Clow, Chigh, Ilow, Ihigh\n",
    "    \n",
    "    if dataName == \"NO2\":\n",
    "        index = np.searchsorted(NO2_bounds, C)\n",
    "        Chigh = NO2_bounds[index]\n",
    "        Clow = NO2_bounds[max(index-1, 0)]\n",
    "        Ihigh = I_bounds[index]\n",
    "        Ilow = I_bounds[max(index-1, 0)]\n",
    "        return Clow, Chigh, Ilow, Ihigh  "
   ]
  },
  {
   "cell_type": "code",
   "execution_count": 47,
   "metadata": {},
   "outputs": [],
   "source": [
    "Clow, Chigh, Ilow, Ihigh = calcLowHigh(\"PM25\", 26.4)"
   ]
  },
  {
   "cell_type": "code",
   "execution_count": 55,
   "metadata": {},
   "outputs": [
    {
     "data": {
      "text/plain": [
       "80.76923076923077"
      ]
     },
     "execution_count": 55,
     "metadata": {},
     "output_type": "execute_result"
    }
   ],
   "source": [
    "calcI(Clow, Chigh, Ilow, Ihigh, 26.4)"
   ]
  },
  {
   "cell_type": "code",
   "execution_count": 69,
   "metadata": {},
   "outputs": [],
   "source": [
    "def getCategory(api):\n",
    "    categories = ['good', 'moderate', 'unhealthy for some', 'unhealthy', 'very unhealthy', 'hazardous']\n",
    "    index = np.searchsorted(I_bounds, api)\n",
    "    return categories[index], index\n",
    "        "
   ]
  },
  {
   "cell_type": "code",
   "execution_count": 70,
   "metadata": {},
   "outputs": [
    {
     "data": {
      "text/plain": [
       "('moderate', 1)"
      ]
     },
     "execution_count": 70,
     "metadata": {},
     "output_type": "execute_result"
    }
   ],
   "source": [
    "getCategory(81)"
   ]
  },
  {
   "cell_type": "code",
   "execution_count": null,
   "metadata": {},
   "outputs": [],
   "source": []
  }
 ],
 "metadata": {
  "kernelspec": {
   "display_name": "Python 3",
   "language": "python",
   "name": "python3"
  },
  "language_info": {
   "codemirror_mode": {
    "name": "ipython",
    "version": 3
   },
   "file_extension": ".py",
   "mimetype": "text/x-python",
   "name": "python",
   "nbconvert_exporter": "python",
   "pygments_lexer": "ipython3",
   "version": "3.7.6"
  }
 },
 "nbformat": 4,
 "nbformat_minor": 5
}
