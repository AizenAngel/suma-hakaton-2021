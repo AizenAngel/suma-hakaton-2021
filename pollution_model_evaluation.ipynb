{
 "cells": [
  {
   "cell_type": "code",
   "execution_count": 1,
   "metadata": {},
   "outputs": [],
   "source": [
    "import torch.nn as nn\n",
    "import torch\n",
    "import pandas as pd\n",
    "import numpy as np\n",
    "import math\n",
    "import seaborn as sb\n",
    "import matplotlib.pyplot as plt\n",
    "import re\n",
    "from sklearn.model_selection import train_test_split\n",
    "from torch.utils.data import DataLoader\n",
    "from torchvision.transforms import transforms as T\n",
    "from torch import optim\n",
    "from tqdm import tqdm\n",
    "import torch.utils.data as data_utils\n",
    "import matplotlib.pyplot as plt\n",
    "from sklearn.preprocessing import StandardScaler"
   ]
  },
  {
   "cell_type": "code",
   "execution_count": 2,
   "metadata": {},
   "outputs": [],
   "source": [
    "meteoData = pd.read_csv(\"podaci_final_VV_popunjeno_bezH.csv\")\n",
    "pollutionData = pd.read_csv(\"pollutionData.csv\")"
   ]
  },
  {
   "cell_type": "code",
   "execution_count": 3,
   "metadata": {},
   "outputs": [],
   "source": [
    "del pollutionData['Unnamed: 0']\n",
    "del pollutionData['MernaStanica']"
   ]
  },
  {
   "cell_type": "code",
   "execution_count": 4,
   "metadata": {},
   "outputs": [
    {
     "data": {
      "text/plain": [
       "Index(['Datum_i_Vreme', 'CO', 'NO2', 'O3', 'PM10', 'PM25', 'SO2'], dtype='object')"
      ]
     },
     "execution_count": 4,
     "metadata": {},
     "output_type": "execute_result"
    }
   ],
   "source": [
    "pollutionData.columns"
   ]
  },
  {
   "cell_type": "code",
   "execution_count": 5,
   "metadata": {},
   "outputs": [
    {
     "data": {
      "text/plain": [
       "Index(['DateTime', 'T', 'P', 'U', 'Ff', 'Nh', 'VV', 'sss', 'DD_Calm, no wind',\n",
       "       'DD_Wind blowing from the east',\n",
       "       'DD_Wind blowing from the east-northeast',\n",
       "       'DD_Wind blowing from the east-southeast',\n",
       "       'DD_Wind blowing from the north', 'DD_Wind blowing from the north-east',\n",
       "       'DD_Wind blowing from the north-northeast',\n",
       "       'DD_Wind blowing from the north-northwest',\n",
       "       'DD_Wind blowing from the north-west', 'DD_Wind blowing from the south',\n",
       "       'DD_Wind blowing from the south-east',\n",
       "       'DD_Wind blowing from the south-southeast',\n",
       "       'DD_Wind blowing from the south-southwest',\n",
       "       'DD_Wind blowing from the south-west', 'DD_Wind blowing from the west',\n",
       "       'DD_Wind blowing from the west-northwest',\n",
       "       'DD_Wind blowing from the west-southwest',\n",
       "       'DD_variable wind direction'],\n",
       "      dtype='object')"
      ]
     },
     "execution_count": 5,
     "metadata": {},
     "output_type": "execute_result"
    }
   ],
   "source": [
    "meteoData.columns"
   ]
  },
  {
   "cell_type": "code",
   "execution_count": 6,
   "metadata": {},
   "outputs": [],
   "source": [
    "pollutionData.columns = ['DateTime', 'CO', 'NO2', 'O3', 'PM10', 'PM25', 'SO2']"
   ]
  },
  {
   "cell_type": "code",
   "execution_count": 7,
   "metadata": {},
   "outputs": [],
   "source": [
    "pollutionData = pollutionData.merge(meteoData, how = 'inner', on = \"DateTime\")"
   ]
  },
  {
   "cell_type": "code",
   "execution_count": 8,
   "metadata": {},
   "outputs": [],
   "source": [
    "del pollutionData['DateTime']"
   ]
  },
  {
   "cell_type": "code",
   "execution_count": 9,
   "metadata": {},
   "outputs": [],
   "source": [
    "yData = pollutionData[['CO', 'NO2', 'O3', 'PM10', 'PM25', 'SO2']]"
   ]
  },
  {
   "cell_type": "code",
   "execution_count": 10,
   "metadata": {},
   "outputs": [],
   "source": [
    "xData = pollutionData.drop(['CO', 'NO2', 'O3', 'PM10', 'PM25', 'SO2'], axis = 1)"
   ]
  },
  {
   "cell_type": "code",
   "execution_count": 11,
   "metadata": {},
   "outputs": [],
   "source": [
    "class FullyConnected(nn.Module):\n",
    "    def __init__(self):\n",
    "        super(FullyConnected, self).__init__()\n",
    "                    \n",
    "        self.fnn = nn.Sequential(\n",
    "            nn.Linear(25, 64),\n",
    "            nn.ReLU(),\n",
    "            nn.Dropout(p = 0.2),\n",
    "            \n",
    "            nn.Linear(64, 128),\n",
    "            nn.ReLU(),\n",
    "            nn.Dropout(p = 0.2),\n",
    "            \n",
    "            nn.Linear(128, 64),\n",
    "            nn.ReLU(),\n",
    "            nn.Dropout(p = 0.2),\n",
    "            \n",
    "            nn.Linear(64, 6),\n",
    "            nn.ReLU()\n",
    "        )\n",
    "        \n",
    "    def forward(self, input):\n",
    "        return self.fnn(input)"
   ]
  },
  {
   "cell_type": "code",
   "execution_count": 12,
   "metadata": {},
   "outputs": [],
   "source": [
    "def testLoop(fnn, testLoader):\n",
    "    mseLoss = 0\n",
    "    maeLoss = 0\n",
    "    \n",
    "    optimizer = optim.Adam(fnn.parameters())\n",
    "    criterion = torch.nn.MSELoss()\n",
    "    criterionMAE = torch.nn.L1Loss()\n",
    "    \n",
    "    with torch.no_grad():\n",
    "        for data, target in testLoader:\n",
    "            data, target = data.to(device), target.to(device)\n",
    "            output = fnn(data)\n",
    "            \n",
    "            loss = criterion(output, target)\n",
    "            mseLoss += loss.item()\n",
    "            \n",
    "            loss = criterionMAE(output, target)\n",
    "            maeLoss += loss.item()\n",
    "\n",
    "    mseLoss /= len(testLoader)\n",
    "    maeLoss /= len(testLoader)\n",
    "\n",
    "    return mseLoss, maeLoss"
   ]
  },
  {
   "cell_type": "code",
   "execution_count": 13,
   "metadata": {},
   "outputs": [],
   "source": [
    "device = torch.device(\"cuda\" if torch.cuda.is_available() else \"cpu\")"
   ]
  },
  {
   "cell_type": "code",
   "execution_count": 14,
   "metadata": {},
   "outputs": [
    {
     "data": {
      "text/plain": [
       "FullyConnected(\n",
       "  (fnn): Sequential(\n",
       "    (0): Linear(in_features=25, out_features=64, bias=True)\n",
       "    (1): ReLU()\n",
       "    (2): Dropout(p=0.2, inplace=False)\n",
       "    (3): Linear(in_features=64, out_features=128, bias=True)\n",
       "    (4): ReLU()\n",
       "    (5): Dropout(p=0.2, inplace=False)\n",
       "    (6): Linear(in_features=128, out_features=64, bias=True)\n",
       "    (7): ReLU()\n",
       "    (8): Dropout(p=0.2, inplace=False)\n",
       "    (9): Linear(in_features=64, out_features=6, bias=True)\n",
       "    (10): ReLU()\n",
       "  )\n",
       ")"
      ]
     },
     "execution_count": 14,
     "metadata": {},
     "output_type": "execute_result"
    }
   ],
   "source": [
    "model = FullyConnected()\n",
    "\n",
    "model.load_state_dict(torch.load('modelPollution_12.58'))\n",
    "model.to(device)\n",
    "model.eval()"
   ]
  },
  {
   "cell_type": "code",
   "execution_count": 15,
   "metadata": {},
   "outputs": [],
   "source": [
    "yData = [[y] for y in yData.values]\n",
    "yData = torch.Tensor(yData)"
   ]
  },
  {
   "cell_type": "code",
   "execution_count": 16,
   "metadata": {},
   "outputs": [],
   "source": [
    "xData = [[y] for y in xData.values]\n",
    "xData = torch.Tensor(xData)"
   ]
  },
  {
   "cell_type": "code",
   "execution_count": 17,
   "metadata": {},
   "outputs": [],
   "source": [
    "_, X_test, _, y_test = train_test_split(xData, yData, random_state = 12, test_size = 0.2)"
   ]
  },
  {
   "cell_type": "code",
   "execution_count": 18,
   "metadata": {},
   "outputs": [],
   "source": [
    "testDataset = data_utils.TensorDataset(X_test, y_test)"
   ]
  },
  {
   "cell_type": "code",
   "execution_count": 19,
   "metadata": {},
   "outputs": [],
   "source": [
    "batchSize = 64"
   ]
  },
  {
   "cell_type": "code",
   "execution_count": 20,
   "metadata": {},
   "outputs": [],
   "source": [
    "testLoader = DataLoader(testDataset, shuffle=True, num_workers=0, batch_size=batchSize)"
   ]
  },
  {
   "cell_type": "code",
   "execution_count": 21,
   "metadata": {},
   "outputs": [],
   "source": [
    "testLoss = testLoop(model, testLoader)"
   ]
  },
  {
   "cell_type": "code",
   "execution_count": 22,
   "metadata": {
    "scrolled": true
   },
   "outputs": [
    {
     "name": "stdout",
     "output_type": "stream",
     "text": [
      "MSE: 1086.5275693903316, MAE: 12.566996475575502\n"
     ]
    }
   ],
   "source": [
    "print('MSE: ' + str(testLoss[0]) + ', MAE: ' + str(testLoss[1]))"
   ]
  },
  {
   "cell_type": "code",
   "execution_count": 23,
   "metadata": {},
   "outputs": [],
   "source": [
    "O3_bounds = np.array([ 54, 125, 165, 205, 405, 504, 604], dtype=np.float64) * 2.00\n",
    "PM25_bounds = np.array([12, 35.4, 55.4, 150.4, 250.4, 350.4, 500.4], dtype=np.float64)\n",
    "PM10_bounds = np.array([54, 154, 254, 354, 424, 504, 604], dtype=np.float64)\n",
    "CO_bounds = np.array([4.4, 9.4, 12.4, 15.4, 30.4, 40.4, 50.4], dtype=np.float64) * 1.145\n",
    "SO2_bounds = np.array([35, 75, 185, 304, 604, 804, 1004], dtype=np.float64) * 2.62\n",
    "NO2_bounds = np.array([53, 100, 360, 649, 1249, 1649, 2049], dtype=np.float64) * 1.88\n",
    "\n",
    "I_bounds = np.array([50, 100, 150, 200, 300, 400, 500], dtype=np.float64)"
   ]
  },
  {
   "cell_type": "code",
   "execution_count": 24,
   "metadata": {},
   "outputs": [],
   "source": [
    "def calcI(Clow, Chigh, Ilow, Ihigh, C):\n",
    "    return 1.0 * ((Ihigh - Ilow) / (Chigh - Clow)) * (C - Clow) + Ilow"
   ]
  },
  {
   "cell_type": "code",
   "execution_count": 35,
   "metadata": {},
   "outputs": [],
   "source": [
    "def calcLowHigh(dataName, C):\n",
    "    if dataName == \"O3\":\n",
    "        index = np.searchsorted(O3_bounds, C)\n",
    "        Chigh = O3_bounds[min(index+1, 6)]\n",
    "        Clow = O3_bounds[index]\n",
    "        Ihigh = I_bounds[min(index+1, 6)]\n",
    "        Ilow = I_bounds[index]\n",
    "                             \n",
    "        return Clow, Chigh, Ilow, Ihigh\n",
    "    \n",
    "    if dataName == \"PM25\":\n",
    "        index = np.searchsorted(PM25_bounds, C)\n",
    "        Chigh = PM25_bounds[min(index+1, 6)]\n",
    "        Clow = PM25_bounds[index]\n",
    "        Ihigh = I_bounds[min(index+1, 6)]\n",
    "        Ilow = I_bounds[index]\n",
    "        return Clow, Chigh, Ilow, Ihigh  \n",
    "    \n",
    "    if dataName == \"PM10\":\n",
    "        index = np.searchsorted(PM10_bounds, C)\n",
    "        Chigh = PM10_bounds[min(index+1, 6)]\n",
    "        Clow = PM10_bounds[index]\n",
    "        Ihigh = I_bounds[min(index+1, 6)]\n",
    "        Ilow = I_bounds[index]\n",
    "        return Clow, Chigh, Ilow, Ihigh  \n",
    "    \n",
    "    if dataName == \"CO\":\n",
    "        index = np.searchsorted(CO_bounds, C)\n",
    "        Chigh = CO_bounds[min(index+1, 6)]\n",
    "        Clow = CO_bounds[index]\n",
    "        Ihigh = I_bounds[min(index+1, 6)]\n",
    "        Ilow = I_bounds[index]\n",
    "        return Clow, Chigh, Ilow, Ihigh  \n",
    "    \n",
    "    if dataName == \"SO2\":\n",
    "        index = np.searchsorted(SO2_bounds, C)\n",
    "        Chigh = SO2_bounds[min(index+1, 6)]\n",
    "        Clow = SO2_bounds[index]\n",
    "        Ihigh = I_bounds[min(index+1, 6)]\n",
    "        Ilow = I_bounds[index]\n",
    "        return Clow, Chigh, Ilow, Ihigh\n",
    "    \n",
    "    if dataName == \"NO2\":\n",
    "        index = np.searchsorted(NO2_bounds, C)\n",
    "        Chigh = NO2_bounds[min(index+1, 6)]\n",
    "        Clow = NO2_bounds[index]\n",
    "        Ihigh = I_bounds[min(index+1, 6)]\n",
    "        Ilow = I_bounds[index]\n",
    "        return Clow, Chigh, Ilow, Ihigh  "
   ]
  },
  {
   "cell_type": "code",
   "execution_count": 36,
   "metadata": {},
   "outputs": [],
   "source": [
    "def getCategory(api):\n",
    "    categories = ['good', 'moderate', 'unhealthy for some', 'unhealthy', 'very unhealthy', 'hazardous']\n",
    "    index = np.searchsorted(I_bounds, api)\n",
    "    return categories[index], index\n",
    "        "
   ]
  },
  {
   "cell_type": "code",
   "execution_count": 92,
   "metadata": {},
   "outputs": [],
   "source": [
    "meteoData = pd.read_csv(\"podaci_final_VV_popunjeno_bezH.csv\")"
   ]
  },
  {
   "cell_type": "code",
   "execution_count": 93,
   "metadata": {
    "scrolled": true
   },
   "outputs": [
    {
     "data": {
      "text/html": [
       "<div>\n",
       "<style scoped>\n",
       "    .dataframe tbody tr th:only-of-type {\n",
       "        vertical-align: middle;\n",
       "    }\n",
       "\n",
       "    .dataframe tbody tr th {\n",
       "        vertical-align: top;\n",
       "    }\n",
       "\n",
       "    .dataframe thead th {\n",
       "        text-align: right;\n",
       "    }\n",
       "</style>\n",
       "<table border=\"1\" class=\"dataframe\">\n",
       "  <thead>\n",
       "    <tr style=\"text-align: right;\">\n",
       "      <th></th>\n",
       "      <th>DateTime</th>\n",
       "      <th>T</th>\n",
       "      <th>P</th>\n",
       "      <th>U</th>\n",
       "      <th>Ff</th>\n",
       "      <th>Nh</th>\n",
       "      <th>VV</th>\n",
       "      <th>sss</th>\n",
       "      <th>DD_Calm, no wind</th>\n",
       "      <th>DD_Wind blowing from the east</th>\n",
       "      <th>...</th>\n",
       "      <th>DD_Wind blowing from the north-west</th>\n",
       "      <th>DD_Wind blowing from the south</th>\n",
       "      <th>DD_Wind blowing from the south-east</th>\n",
       "      <th>DD_Wind blowing from the south-southeast</th>\n",
       "      <th>DD_Wind blowing from the south-southwest</th>\n",
       "      <th>DD_Wind blowing from the south-west</th>\n",
       "      <th>DD_Wind blowing from the west</th>\n",
       "      <th>DD_Wind blowing from the west-northwest</th>\n",
       "      <th>DD_Wind blowing from the west-southwest</th>\n",
       "      <th>DD_variable wind direction</th>\n",
       "    </tr>\n",
       "  </thead>\n",
       "  <tbody>\n",
       "    <tr>\n",
       "      <th>78465</th>\n",
       "      <td>2021-03-31 23:00</td>\n",
       "      <td>11.9</td>\n",
       "      <td>1022.5</td>\n",
       "      <td>67</td>\n",
       "      <td>1.000000</td>\n",
       "      <td>0</td>\n",
       "      <td>10.000000</td>\n",
       "      <td>0.0</td>\n",
       "      <td>0</td>\n",
       "      <td>0</td>\n",
       "      <td>...</td>\n",
       "      <td>0</td>\n",
       "      <td>0</td>\n",
       "      <td>0</td>\n",
       "      <td>0</td>\n",
       "      <td>0</td>\n",
       "      <td>0</td>\n",
       "      <td>0</td>\n",
       "      <td>0</td>\n",
       "      <td>0</td>\n",
       "      <td>0</td>\n",
       "    </tr>\n",
       "    <tr>\n",
       "      <th>78441</th>\n",
       "      <td>2021-03-30 23:00</td>\n",
       "      <td>10.1</td>\n",
       "      <td>1029.0</td>\n",
       "      <td>73</td>\n",
       "      <td>1.000000</td>\n",
       "      <td>0</td>\n",
       "      <td>10.000000</td>\n",
       "      <td>0.0</td>\n",
       "      <td>0</td>\n",
       "      <td>0</td>\n",
       "      <td>...</td>\n",
       "      <td>1</td>\n",
       "      <td>0</td>\n",
       "      <td>0</td>\n",
       "      <td>0</td>\n",
       "      <td>0</td>\n",
       "      <td>0</td>\n",
       "      <td>0</td>\n",
       "      <td>0</td>\n",
       "      <td>0</td>\n",
       "      <td>0</td>\n",
       "    </tr>\n",
       "    <tr>\n",
       "      <th>78417</th>\n",
       "      <td>2021-03-29 23:30</td>\n",
       "      <td>10.0</td>\n",
       "      <td>1031.8</td>\n",
       "      <td>0</td>\n",
       "      <td>11.938297</td>\n",
       "      <td>0</td>\n",
       "      <td>18.305286</td>\n",
       "      <td>0.0</td>\n",
       "      <td>1</td>\n",
       "      <td>0</td>\n",
       "      <td>...</td>\n",
       "      <td>0</td>\n",
       "      <td>0</td>\n",
       "      <td>0</td>\n",
       "      <td>0</td>\n",
       "      <td>0</td>\n",
       "      <td>0</td>\n",
       "      <td>0</td>\n",
       "      <td>0</td>\n",
       "      <td>0</td>\n",
       "      <td>0</td>\n",
       "    </tr>\n",
       "    <tr>\n",
       "      <th>78393</th>\n",
       "      <td>2021-03-29 11:30</td>\n",
       "      <td>14.0</td>\n",
       "      <td>1033.9</td>\n",
       "      <td>2</td>\n",
       "      <td>12.755862</td>\n",
       "      <td>0</td>\n",
       "      <td>18.621237</td>\n",
       "      <td>0.0</td>\n",
       "      <td>0</td>\n",
       "      <td>0</td>\n",
       "      <td>...</td>\n",
       "      <td>0</td>\n",
       "      <td>0</td>\n",
       "      <td>0</td>\n",
       "      <td>0</td>\n",
       "      <td>0</td>\n",
       "      <td>0</td>\n",
       "      <td>0</td>\n",
       "      <td>0</td>\n",
       "      <td>0</td>\n",
       "      <td>1</td>\n",
       "    </tr>\n",
       "    <tr>\n",
       "      <th>78369</th>\n",
       "      <td>2021-03-28 23:30</td>\n",
       "      <td>9.0</td>\n",
       "      <td>1032.9</td>\n",
       "      <td>0</td>\n",
       "      <td>12.225293</td>\n",
       "      <td>0</td>\n",
       "      <td>18.281395</td>\n",
       "      <td>0.0</td>\n",
       "      <td>1</td>\n",
       "      <td>0</td>\n",
       "      <td>...</td>\n",
       "      <td>0</td>\n",
       "      <td>0</td>\n",
       "      <td>0</td>\n",
       "      <td>0</td>\n",
       "      <td>0</td>\n",
       "      <td>0</td>\n",
       "      <td>0</td>\n",
       "      <td>0</td>\n",
       "      <td>0</td>\n",
       "      <td>0</td>\n",
       "    </tr>\n",
       "    <tr>\n",
       "      <th>...</th>\n",
       "      <td>...</td>\n",
       "      <td>...</td>\n",
       "      <td>...</td>\n",
       "      <td>...</td>\n",
       "      <td>...</td>\n",
       "      <td>...</td>\n",
       "      <td>...</td>\n",
       "      <td>...</td>\n",
       "      <td>...</td>\n",
       "      <td>...</td>\n",
       "      <td>...</td>\n",
       "      <td>...</td>\n",
       "      <td>...</td>\n",
       "      <td>...</td>\n",
       "      <td>...</td>\n",
       "      <td>...</td>\n",
       "      <td>...</td>\n",
       "      <td>...</td>\n",
       "      <td>...</td>\n",
       "      <td>...</td>\n",
       "      <td>...</td>\n",
       "    </tr>\n",
       "    <tr>\n",
       "      <th>69921</th>\n",
       "      <td>2020-05-12 23:00</td>\n",
       "      <td>11.7</td>\n",
       "      <td>1019.9</td>\n",
       "      <td>54</td>\n",
       "      <td>2.000000</td>\n",
       "      <td>50</td>\n",
       "      <td>20.000000</td>\n",
       "      <td>0.0</td>\n",
       "      <td>0</td>\n",
       "      <td>0</td>\n",
       "      <td>...</td>\n",
       "      <td>1</td>\n",
       "      <td>0</td>\n",
       "      <td>0</td>\n",
       "      <td>0</td>\n",
       "      <td>0</td>\n",
       "      <td>0</td>\n",
       "      <td>0</td>\n",
       "      <td>0</td>\n",
       "      <td>0</td>\n",
       "      <td>0</td>\n",
       "    </tr>\n",
       "    <tr>\n",
       "      <th>69897</th>\n",
       "      <td>2020-05-11 23:00</td>\n",
       "      <td>23.1</td>\n",
       "      <td>1004.2</td>\n",
       "      <td>26</td>\n",
       "      <td>5.000000</td>\n",
       "      <td>50</td>\n",
       "      <td>20.000000</td>\n",
       "      <td>0.0</td>\n",
       "      <td>0</td>\n",
       "      <td>0</td>\n",
       "      <td>...</td>\n",
       "      <td>0</td>\n",
       "      <td>0</td>\n",
       "      <td>0</td>\n",
       "      <td>0</td>\n",
       "      <td>0</td>\n",
       "      <td>0</td>\n",
       "      <td>1</td>\n",
       "      <td>0</td>\n",
       "      <td>0</td>\n",
       "      <td>0</td>\n",
       "    </tr>\n",
       "    <tr>\n",
       "      <th>69873</th>\n",
       "      <td>2020-05-10 23:00</td>\n",
       "      <td>20.7</td>\n",
       "      <td>1010.1</td>\n",
       "      <td>58</td>\n",
       "      <td>2.000000</td>\n",
       "      <td>0</td>\n",
       "      <td>10.000000</td>\n",
       "      <td>0.0</td>\n",
       "      <td>0</td>\n",
       "      <td>0</td>\n",
       "      <td>...</td>\n",
       "      <td>0</td>\n",
       "      <td>1</td>\n",
       "      <td>0</td>\n",
       "      <td>0</td>\n",
       "      <td>0</td>\n",
       "      <td>0</td>\n",
       "      <td>0</td>\n",
       "      <td>0</td>\n",
       "      <td>0</td>\n",
       "      <td>0</td>\n",
       "    </tr>\n",
       "    <tr>\n",
       "      <th>69849</th>\n",
       "      <td>2020-05-09 23:00</td>\n",
       "      <td>19.3</td>\n",
       "      <td>1012.9</td>\n",
       "      <td>47</td>\n",
       "      <td>2.000000</td>\n",
       "      <td>0</td>\n",
       "      <td>10.000000</td>\n",
       "      <td>0.0</td>\n",
       "      <td>0</td>\n",
       "      <td>0</td>\n",
       "      <td>...</td>\n",
       "      <td>0</td>\n",
       "      <td>1</td>\n",
       "      <td>0</td>\n",
       "      <td>0</td>\n",
       "      <td>0</td>\n",
       "      <td>0</td>\n",
       "      <td>0</td>\n",
       "      <td>0</td>\n",
       "      <td>0</td>\n",
       "      <td>0</td>\n",
       "    </tr>\n",
       "    <tr>\n",
       "      <th>69825</th>\n",
       "      <td>2020-05-08 23:00</td>\n",
       "      <td>12.5</td>\n",
       "      <td>1017.8</td>\n",
       "      <td>63</td>\n",
       "      <td>2.000000</td>\n",
       "      <td>0</td>\n",
       "      <td>10.000000</td>\n",
       "      <td>0.0</td>\n",
       "      <td>0</td>\n",
       "      <td>0</td>\n",
       "      <td>...</td>\n",
       "      <td>0</td>\n",
       "      <td>0</td>\n",
       "      <td>1</td>\n",
       "      <td>0</td>\n",
       "      <td>0</td>\n",
       "      <td>0</td>\n",
       "      <td>0</td>\n",
       "      <td>0</td>\n",
       "      <td>0</td>\n",
       "      <td>0</td>\n",
       "    </tr>\n",
       "  </tbody>\n",
       "</table>\n",
       "<p>361 rows × 26 columns</p>\n",
       "</div>"
      ],
      "text/plain": [
       "               DateTime     T       P   U         Ff  Nh         VV  sss  \\\n",
       "78465  2021-03-31 23:00  11.9  1022.5  67   1.000000   0  10.000000  0.0   \n",
       "78441  2021-03-30 23:00  10.1  1029.0  73   1.000000   0  10.000000  0.0   \n",
       "78417  2021-03-29 23:30  10.0  1031.8   0  11.938297   0  18.305286  0.0   \n",
       "78393  2021-03-29 11:30  14.0  1033.9   2  12.755862   0  18.621237  0.0   \n",
       "78369  2021-03-28 23:30   9.0  1032.9   0  12.225293   0  18.281395  0.0   \n",
       "...                 ...   ...     ...  ..        ...  ..        ...  ...   \n",
       "69921  2020-05-12 23:00  11.7  1019.9  54   2.000000  50  20.000000  0.0   \n",
       "69897  2020-05-11 23:00  23.1  1004.2  26   5.000000  50  20.000000  0.0   \n",
       "69873  2020-05-10 23:00  20.7  1010.1  58   2.000000   0  10.000000  0.0   \n",
       "69849  2020-05-09 23:00  19.3  1012.9  47   2.000000   0  10.000000  0.0   \n",
       "69825  2020-05-08 23:00  12.5  1017.8  63   2.000000   0  10.000000  0.0   \n",
       "\n",
       "       DD_Calm, no wind  DD_Wind blowing from the east  ...  \\\n",
       "78465                 0                              0  ...   \n",
       "78441                 0                              0  ...   \n",
       "78417                 1                              0  ...   \n",
       "78393                 0                              0  ...   \n",
       "78369                 1                              0  ...   \n",
       "...                 ...                            ...  ...   \n",
       "69921                 0                              0  ...   \n",
       "69897                 0                              0  ...   \n",
       "69873                 0                              0  ...   \n",
       "69849                 0                              0  ...   \n",
       "69825                 0                              0  ...   \n",
       "\n",
       "       DD_Wind blowing from the north-west  DD_Wind blowing from the south  \\\n",
       "78465                                    0                               0   \n",
       "78441                                    1                               0   \n",
       "78417                                    0                               0   \n",
       "78393                                    0                               0   \n",
       "78369                                    0                               0   \n",
       "...                                    ...                             ...   \n",
       "69921                                    1                               0   \n",
       "69897                                    0                               0   \n",
       "69873                                    0                               1   \n",
       "69849                                    0                               1   \n",
       "69825                                    0                               0   \n",
       "\n",
       "       DD_Wind blowing from the south-east  \\\n",
       "78465                                    0   \n",
       "78441                                    0   \n",
       "78417                                    0   \n",
       "78393                                    0   \n",
       "78369                                    0   \n",
       "...                                    ...   \n",
       "69921                                    0   \n",
       "69897                                    0   \n",
       "69873                                    0   \n",
       "69849                                    0   \n",
       "69825                                    1   \n",
       "\n",
       "       DD_Wind blowing from the south-southeast  \\\n",
       "78465                                         0   \n",
       "78441                                         0   \n",
       "78417                                         0   \n",
       "78393                                         0   \n",
       "78369                                         0   \n",
       "...                                         ...   \n",
       "69921                                         0   \n",
       "69897                                         0   \n",
       "69873                                         0   \n",
       "69849                                         0   \n",
       "69825                                         0   \n",
       "\n",
       "       DD_Wind blowing from the south-southwest  \\\n",
       "78465                                         0   \n",
       "78441                                         0   \n",
       "78417                                         0   \n",
       "78393                                         0   \n",
       "78369                                         0   \n",
       "...                                         ...   \n",
       "69921                                         0   \n",
       "69897                                         0   \n",
       "69873                                         0   \n",
       "69849                                         0   \n",
       "69825                                         0   \n",
       "\n",
       "       DD_Wind blowing from the south-west  DD_Wind blowing from the west  \\\n",
       "78465                                    0                              0   \n",
       "78441                                    0                              0   \n",
       "78417                                    0                              0   \n",
       "78393                                    0                              0   \n",
       "78369                                    0                              0   \n",
       "...                                    ...                            ...   \n",
       "69921                                    0                              0   \n",
       "69897                                    0                              1   \n",
       "69873                                    0                              0   \n",
       "69849                                    0                              0   \n",
       "69825                                    0                              0   \n",
       "\n",
       "       DD_Wind blowing from the west-northwest  \\\n",
       "78465                                        0   \n",
       "78441                                        0   \n",
       "78417                                        0   \n",
       "78393                                        0   \n",
       "78369                                        0   \n",
       "...                                        ...   \n",
       "69921                                        0   \n",
       "69897                                        0   \n",
       "69873                                        0   \n",
       "69849                                        0   \n",
       "69825                                        0   \n",
       "\n",
       "       DD_Wind blowing from the west-southwest  DD_variable wind direction  \n",
       "78465                                        0                           0  \n",
       "78441                                        0                           0  \n",
       "78417                                        0                           0  \n",
       "78393                                        0                           1  \n",
       "78369                                        0                           0  \n",
       "...                                        ...                         ...  \n",
       "69921                                        0                           0  \n",
       "69897                                        0                           0  \n",
       "69873                                        0                           0  \n",
       "69849                                        0                           0  \n",
       "69825                                        0                           0  \n",
       "\n",
       "[361 rows x 26 columns]"
      ]
     },
     "execution_count": 93,
     "metadata": {},
     "output_type": "execute_result"
    }
   ],
   "source": [
    "dots = 361\n",
    "meteoData = meteoData[-1:-24*dots:-24]\n",
    "meteoData"
   ]
  },
  {
   "cell_type": "code",
   "execution_count": 94,
   "metadata": {},
   "outputs": [],
   "source": [
    "del meteoData[\"DateTime\"]"
   ]
  },
  {
   "cell_type": "code",
   "execution_count": 95,
   "metadata": {},
   "outputs": [],
   "source": [
    "elements = ['CO', 'NO2', 'O3', 'PM10', 'PM25', 'SO2']"
   ]
  },
  {
   "cell_type": "code",
   "execution_count": 96,
   "metadata": {
    "scrolled": false
   },
   "outputs": [],
   "source": [
    "xData = [[y] for y in meteoData.values]\n",
    "xData = torch.Tensor(xData).to(device)"
   ]
  },
  {
   "cell_type": "code",
   "execution_count": 97,
   "metadata": {},
   "outputs": [],
   "source": [
    "with torch.no_grad():\n",
    "    output = model(xData).cpu()"
   ]
  },
  {
   "cell_type": "code",
   "execution_count": 98,
   "metadata": {},
   "outputs": [],
   "source": [
    "points = []\n",
    "for out in output:\n",
    "    maxI = 0\n",
    "    out = torch.squeeze(out, axis=0).numpy()\n",
    "    for name, val in zip(elements, out):\n",
    "        Clow, Chigh, Ilow, Ihigh = calcLowHigh(name, val)\n",
    "        I = calcI(Clow, Chigh, Ilow, Ihigh, val)\n",
    "        if ( I > maxI ):\n",
    "            maxI = I\n",
    "    points.append(maxI)"
   ]
  },
  {
   "cell_type": "code",
   "execution_count": 99,
   "metadata": {},
   "outputs": [],
   "source": [
    "xTicks = [i for i in range(dots)]"
   ]
  },
  {
   "cell_type": "code",
   "execution_count": 115,
   "metadata": {},
   "outputs": [
    {
     "data": {
      "text/plain": [
       "[<matplotlib.lines.Line2D at 0x21f2e620f48>]"
      ]
     },
     "execution_count": 115,
     "metadata": {},
     "output_type": "execute_result"
    },
    {
     "data": {
      "image/png": "[encoded data removed]",
      "text/plain": [
       "<Figure size 432x288 with 1 Axes>"
      ]
     },
     "metadata": {
      "needs_background": "light"
     },
     "output_type": "display_data"
    }
   ],
   "source": [
    "plt.scatter(xTicks, points, c='black', linewidth=1)\n",
    "plt.xlabel('Days')\n",
    "plt.ylabel('AQI')\n",
    "\n",
    "plt.plot([0, 361], [50, 50], c=\"green\", linewidth=5)\n",
    "plt.plot([0, 361], [100, 100], c=\"yellow\", linewidth=5)\n",
    "plt.plot([0, 361], [150, 150], c=\"orange\", linewidth=5)\n",
    "# plt.plot([0, 361], [200, 200], c=\"red\", linewidth=5)\n",
    "# plt.plot([0, 361], [300, 300], c=\"purple\", linewidth=5)\n",
    "# plt.plot([0, 361], [400, 400], c=\"purple\", linewidth=5)\n",
    "# plt.plot([0, 361], [500, 500], c=\"purple\", linewidth=5)                  "
   ]
  },
  {
   "cell_type": "code",
   "execution_count": null,
   "metadata": {},
   "outputs": [],
   "source": []
  },
  {
   "cell_type": "code",
   "execution_count": null,
   "metadata": {},
   "outputs": [],
   "source": []
  }
 ],
 "metadata": {
  "kernelspec": {
   "display_name": "Python 3",
   "language": "python",
   "name": "python3"
  },
  "language_info": {
   "codemirror_mode": {
    "name": "ipython",
    "version": 3
   },
   "file_extension": ".py",
   "mimetype": "text/x-python",
   "name": "python",
   "nbconvert_exporter": "python",
   "pygments_lexer": "ipython3",
   "version": "3.7.6"
  }
 },
 "nbformat": 4,
 "nbformat_minor": 5
}
