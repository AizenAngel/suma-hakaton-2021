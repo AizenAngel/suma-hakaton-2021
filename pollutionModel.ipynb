{
 "cells": [
  {
   "cell_type": "code",
   "execution_count": 57,
   "id": "cce0785e",
   "metadata": {},
   "outputs": [],
   "source": [
    "import torch.nn as nn\n",
    "import torch\n",
    "import pandas as pd\n",
    "import numpy as np\n",
    "import math\n",
    "import seaborn as sb\n",
    "import matplotlib.pyplot as plt\n",
    "import re\n",
    "from sklearn.model_selection import train_test_split\n",
    "from torch.utils.data import DataLoader\n",
    "from torchvision.transforms import transforms as T\n",
    "from torch import optim\n",
    "from tqdm import tqdm\n",
    "import torch.utils.data as data_utils\n",
    "import matplotlib.pyplot as plt\n",
    "from sklearn.preprocessing import StandardScaler"
   ]
  },
  {
   "cell_type": "code",
   "execution_count": 58,
   "id": "8e4d6509",
   "metadata": {},
   "outputs": [],
   "source": [
    "meteoData = pd.read_csv(\"podaci_final_VV_popunjeno_bezH.csv\")\n",
    "pollutionData = pd.read_csv(\"pollutionData.csv\")"
   ]
  },
  {
   "cell_type": "code",
   "execution_count": 59,
   "id": "e529baba",
   "metadata": {},
   "outputs": [],
   "source": [
    "del pollutionData['Unnamed: 0']\n",
    "del pollutionData['MernaStanica']"
   ]
  },
  {
   "cell_type": "code",
   "execution_count": 60,
   "id": "f329422b",
   "metadata": {},
   "outputs": [],
   "source": [
    "pollutionData.columns = ['DateTime', 'B', 'CO', 'NO2', 'O3', 'PM10', 'PM25', 'SO2']"
   ]
  },
  {
   "cell_type": "code",
   "execution_count": 61,
   "id": "5e84ed17",
   "metadata": {},
   "outputs": [],
   "source": [
    "pollutionData = pollutionData.merge(meteoData, how = 'inner', on = \"DateTime\")"
   ]
  },
  {
   "cell_type": "code",
   "execution_count": 62,
   "id": "70ddef2f",
   "metadata": {},
   "outputs": [],
   "source": [
    "del pollutionData['DateTime']"
   ]
  },
  {
   "cell_type": "code",
   "execution_count": 63,
   "id": "868a4a88",
   "metadata": {},
   "outputs": [],
   "source": [
    "yData = pollutionData[['B', 'CO', 'NO2', 'O3', 'PM10', 'PM25', 'SO2']]"
   ]
  },
  {
   "cell_type": "code",
   "execution_count": 64,
   "id": "136faf3e",
   "metadata": {},
   "outputs": [],
   "source": [
    "xData = pollutionData.drop(['B', 'CO', 'NO2', 'O3', 'PM10', 'PM25', 'SO2'], axis = 1)"
   ]
  },
  {
   "cell_type": "code",
   "execution_count": 65,
   "id": "72bf1921",
   "metadata": {},
   "outputs": [],
   "source": [
    "class FullyConnected(nn.Module):\n",
    "    def __init__(self):\n",
    "        super(FullyConnected, self).__init__()\n",
    "                    \n",
    "        self.fnn = nn.Sequential(\n",
    "            nn.Linear(25, 64),\n",
    "            nn.ReLU(),\n",
    "            nn.Dropout(p = 0.2),\n",
    "            \n",
    "            nn.Linear(64, 128),\n",
    "            nn.ReLU(),\n",
    "            nn.Dropout(p = 0.2),\n",
    "            \n",
    "            nn.Linear(128, 64),\n",
    "            nn.ReLU(),\n",
    "            nn.Dropout(p = 0.2),\n",
    "            \n",
    "            nn.Linear(64, 7),\n",
    "            nn.ReLU()\n",
    "        )\n",
    "        \n",
    "    def forward(self, input):\n",
    "        return self.fnn(input)"
   ]
  },
  {
   "cell_type": "code",
   "execution_count": 66,
   "id": "5b83b23a",
   "metadata": {},
   "outputs": [],
   "source": [
    "def mseLoss(target, output):\n",
    "    batchSize, _, _ = target.shape\n",
    "    # 32 x 1 x 7\n",
    "    mseSumm = 0\n",
    "    for _ in range(batchSize):\n",
    "        mseSumm = output - target"
   ]
  },
  {
   "cell_type": "code",
   "execution_count": 67,
   "id": "86d7633e",
   "metadata": {},
   "outputs": [],
   "source": [
    "def trainLoop(fnn, trainLoader, valLoader):\n",
    "    fnn.train()\n",
    "    optimizer = optim.Adam(fnn.parameters())\n",
    "    #criterion = torch.nn.MSELoss()\n",
    "    criterion = torch.nn.L1Loss()\n",
    "    \n",
    "    counterTrain = []\n",
    "    lossHistoryTrain = []\n",
    "\n",
    "    counterVal = []\n",
    "    lossHistoryVal = []\n",
    "    epochsSinceLastImprovement = 0\n",
    "    bestLoss = None\n",
    "    \n",
    "    EPOCHS = 300\n",
    "    \n",
    "    for epoch in tqdm(range(EPOCHS)):\n",
    "        \n",
    "        epochLoss = 0\n",
    "        \n",
    "        for batch_idx, (data, target) in enumerate(trainLoader):\n",
    "\n",
    "            optimizer.zero_grad()\n",
    "\n",
    "            data, target = data.to(device), target.to(device)\n",
    "\n",
    "            output = fnn(data)\n",
    "            loss = criterion(output, target)\n",
    "            \n",
    "            epochLoss += loss.item()\n",
    "            loss.backward()\n",
    "            optimizer.step()\n",
    "        \n",
    "        counterTrain.append(epoch)\n",
    "        lossHistoryTrain.append(epochLoss/len(trainLoader))\n",
    "        \n",
    "        with torch.no_grad():\n",
    "\n",
    "            validationLoss = 0\n",
    "\n",
    "            for batch_idx, (data, target) in enumerate(valLoader):\n",
    "                \n",
    "                data, target = data.to(device), target.to(device)\n",
    "\n",
    "                output = fnn(data)\n",
    "                loss = criterion(output, target)\n",
    "\n",
    "                validationLoss += loss.item()\n",
    "        \n",
    "        counterVal.append(epoch)\n",
    "        lossHistoryVal.append(validationLoss/len(valLoader))\n",
    "        \n",
    "        \n",
    "        if bestLoss is None:\n",
    "            bestLoss = validationLoss\n",
    "            bestModel = fnn.state_dict()\n",
    "\n",
    "        if validationLoss >= bestLoss:\n",
    "            epochsSinceLastImprovement += 1\n",
    "            if epochsSinceLastImprovement >= 15:\n",
    "                print(f\"Early stopped at epoch {epoch}!\")\n",
    "                fnn.load_state_dict(bestModel)\n",
    "                break\n",
    "        else:\n",
    "            epochsSinceLastImprovement = 0\n",
    "            bestLoss = validationLoss\n",
    "            bestModel = fnn.state_dict()\n",
    "            \n",
    "            \n",
    "    plt.plot(counterTrain, lossHistoryTrain)\n",
    "    plt.plot(counterVal, lossHistoryVal)\n",
    "    plt.legend(['mae_train', 'mae_val'])\n",
    "    plt.xlabel('EPOCHS')\n",
    "    plt.ylabel('MAE')\n",
    "    plt.show()"
   ]
  },
  {
   "cell_type": "code",
   "execution_count": 68,
   "id": "3ababd89",
   "metadata": {},
   "outputs": [],
   "source": [
    "def testLoop(fnn, testLoader):\n",
    "    fnn.eval()\n",
    "    mseLoss = 0\n",
    "    maeLoss = 0\n",
    "    \n",
    "    optimizer = optim.Adam(fnn.parameters())\n",
    "    criterion = torch.nn.MSELoss()\n",
    "    criterionMAE = torch.nn.L1Loss()\n",
    "    \n",
    "    with torch.no_grad():\n",
    "        for data, target in testLoader:\n",
    "            data, target = data.to(device), target.to(device)\n",
    "            output = fnn(data)\n",
    "            \n",
    "            loss = criterion(output, target)\n",
    "            mseLoss += loss.item()\n",
    "            \n",
    "            loss = criterionMAE(output, target)\n",
    "            maeLoss += loss.item()\n",
    "\n",
    "    mseLoss /= len(testLoader)\n",
    "    maeLoss /= len(testLoader)\n",
    "\n",
    "    return mseLoss, maeLoss"
   ]
  },
  {
   "cell_type": "code",
   "execution_count": 69,
   "id": "a96cc9ae",
   "metadata": {},
   "outputs": [],
   "source": [
    "device = torch.device(\"cuda\" if torch.cuda.is_available() else \"cpu\")"
   ]
  },
  {
   "cell_type": "code",
   "execution_count": 70,
   "id": "46e991f1",
   "metadata": {},
   "outputs": [
    {
     "data": {
      "text/plain": [
       "FullyConnected(\n",
       "  (fnn): Sequential(\n",
       "    (0): Linear(in_features=25, out_features=64, bias=True)\n",
       "    (1): ReLU()\n",
       "    (2): Dropout(p=0.2, inplace=False)\n",
       "    (3): Linear(in_features=64, out_features=128, bias=True)\n",
       "    (4): ReLU()\n",
       "    (5): Dropout(p=0.2, inplace=False)\n",
       "    (6): Linear(in_features=128, out_features=64, bias=True)\n",
       "    (7): ReLU()\n",
       "    (8): Dropout(p=0.2, inplace=False)\n",
       "    (9): Linear(in_features=64, out_features=7, bias=True)\n",
       "    (10): ReLU()\n",
       "  )\n",
       ")"
      ]
     },
     "execution_count": 70,
     "metadata": {},
     "output_type": "execute_result"
    }
   ],
   "source": [
    "model = FullyConnected()\n",
    "model.to(device)"
   ]
  },
  {
   "cell_type": "code",
   "execution_count": 71,
   "id": "1664d3e7",
   "metadata": {},
   "outputs": [
    {
     "data": {
      "text/plain": [
       "B       0\n",
       "CO      0\n",
       "NO2     0\n",
       "O3      0\n",
       "PM10    0\n",
       "PM25    0\n",
       "SO2     0\n",
       "dtype: int64"
      ]
     },
     "execution_count": 71,
     "metadata": {},
     "output_type": "execute_result"
    }
   ],
   "source": [
    "yData.isna().sum()"
   ]
  },
  {
   "cell_type": "code",
   "execution_count": 72,
   "id": "838581cc",
   "metadata": {},
   "outputs": [],
   "source": [
    "yData = [[y] for y in yData.values]\n",
    "yData = torch.Tensor(yData)"
   ]
  },
  {
   "cell_type": "code",
   "execution_count": 73,
   "id": "6dc2c06d",
   "metadata": {},
   "outputs": [],
   "source": [
    "xData = [[y] for y in xData.values]\n",
    "xData = torch.Tensor(xData)"
   ]
  },
  {
   "cell_type": "code",
   "execution_count": 74,
   "id": "2d27692e",
   "metadata": {},
   "outputs": [],
   "source": [
    "X_train, X_test, y_train, y_test = train_test_split(xData, yData, random_state = 12, test_size = 0.2)"
   ]
  },
  {
   "cell_type": "code",
   "execution_count": 75,
   "id": "1c6b2046",
   "metadata": {},
   "outputs": [],
   "source": [
    "X_train, X_val, y_train, y_val = train_test_split(X_train, y_train, random_state = 12, test_size = 0.25)"
   ]
  },
  {
   "cell_type": "code",
   "execution_count": 76,
   "id": "760071f7",
   "metadata": {},
   "outputs": [],
   "source": [
    "trainDataset = data_utils.TensorDataset(X_train, y_train)\n",
    "testDataset = data_utils.TensorDataset(X_test, y_test)\n",
    "valDataset = data_utils.TensorDataset(X_val, y_val)"
   ]
  },
  {
   "cell_type": "code",
   "execution_count": 77,
   "id": "340751e9",
   "metadata": {},
   "outputs": [],
   "source": [
    "batchSize = 64"
   ]
  },
  {
   "cell_type": "code",
   "execution_count": 78,
   "id": "c1c22d10",
   "metadata": {},
   "outputs": [],
   "source": [
    "trainLoader = DataLoader(trainDataset, shuffle=True, num_workers=0, batch_size=batchSize)"
   ]
  },
  {
   "cell_type": "code",
   "execution_count": 79,
   "id": "e3cadb45",
   "metadata": {},
   "outputs": [],
   "source": [
    "testLoader = DataLoader(testDataset, shuffle=True, num_workers=0, batch_size=batchSize)"
   ]
  },
  {
   "cell_type": "code",
   "execution_count": 80,
   "id": "edab9b1c",
   "metadata": {},
   "outputs": [],
   "source": [
    "valLoader = DataLoader(valDataset,shuffle=True, num_workers=0, batch_size=batchSize)"
   ]
  },
  {
   "cell_type": "code",
   "execution_count": 81,
   "id": "2f2c40ab",
   "metadata": {},
   "outputs": [
    {
     "name": "stderr",
     "output_type": "stream",
     "text": [
      " 39%|██████████████████████████████▉                                                 | 116/300 [03:00<04:46,  1.55s/it]"
     ]
    },
    {
     "name": "stdout",
     "output_type": "stream",
     "text": [
      "Early stopped at epoch 116!\n"
     ]
    },
    {
     "name": "stderr",
     "output_type": "stream",
     "text": [
      "\n"
     ]
    },
    {
     "data": {
      "image/png": "[encoded data removed]",
      "text/plain": [
       "<Figure size 432x288 with 1 Axes>"
      ]
     },
     "metadata": {
      "needs_background": "light"
     },
     "output_type": "display_data"
    }
   ],
   "source": [
    "trainLoop(model, trainLoader, valLoader)"
   ]
  },
  {
   "cell_type": "code",
   "execution_count": 82,
   "id": "65dcf147",
   "metadata": {},
   "outputs": [],
   "source": [
    "testLoss = testLoop(model, testLoader)"
   ]
  },
  {
   "cell_type": "code",
   "execution_count": 83,
   "id": "96c517f7",
   "metadata": {},
   "outputs": [
    {
     "data": {
      "text/plain": [
       "(203.6284080861146, 8.278167650489609)"
      ]
     },
     "execution_count": 83,
     "metadata": {},
     "output_type": "execute_result"
    }
   ],
   "source": [
    "testLoss"
   ]
  },
  {
   "cell_type": "code",
   "execution_count": 84,
   "id": "1cd4993d",
   "metadata": {},
   "outputs": [],
   "source": [
    "torch.save(model.state_dict(), \"modelPollution_\" + str(round(testLoss[1], 2)))"
   ]
  }
 ],
 "metadata": {
  "kernelspec": {
   "display_name": "Python 3",
   "language": "python",
   "name": "python3"
  },
  "language_info": {
   "codemirror_mode": {
    "name": "ipython",
    "version": 3
   },
   "file_extension": ".py",
   "mimetype": "text/x-python",
   "name": "python",
   "nbconvert_exporter": "python",
   "pygments_lexer": "ipython3",
   "version": "3.8.8"
  }
 },
 "nbformat": 4,
 "nbformat_minor": 5
}
