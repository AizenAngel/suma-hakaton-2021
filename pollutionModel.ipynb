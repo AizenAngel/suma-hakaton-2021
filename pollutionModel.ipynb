{
 "cells": [
  {
   "cell_type": "code",
   "execution_count": 1,
   "id": "5c0dc6f7",
   "metadata": {},
   "outputs": [],
   "source": [
    "import torch.nn as nn\n",
    "import torch\n",
    "import pandas as pd\n",
    "import numpy as np\n",
    "import math\n",
    "import seaborn as sb\n",
    "import matplotlib.pyplot as plt\n",
    "import re\n",
    "from sklearn.model_selection import train_test_split\n",
    "from torch.utils.data import DataLoader\n",
    "from torchvision.transforms import transforms as T\n",
    "from torch import optim\n",
    "from tqdm import tqdm\n",
    "import torch.utils.data as data_utils\n",
    "import matplotlib.pyplot as plt\n",
    "from sklearn.preprocessing import StandardScaler"
   ]
  },
  {
   "cell_type": "code",
   "execution_count": 2,
   "id": "e9a47488",
   "metadata": {},
   "outputs": [],
   "source": [
    "meteoData = pd.read_csv(\"podaci_final_VV_popunjeno_bezH.csv\")\n",
    "pollutionData = pd.read_csv(\"pollutionData.csv\")"
   ]
  },
  {
   "cell_type": "code",
   "execution_count": 3,
   "id": "07cb2f95",
   "metadata": {},
   "outputs": [],
   "source": [
    "del pollutionData['Unnamed: 0']\n",
    "del pollutionData['MernaStanica']"
   ]
  },
  {
   "cell_type": "code",
   "execution_count": 4,
   "id": "57f584ea",
   "metadata": {},
   "outputs": [],
   "source": [
    "pollutionData.columns = ['DateTime', 'CO', 'NO2', 'O3', 'PM10', 'PM25', 'SO2']"
   ]
  },
  {
   "cell_type": "code",
   "execution_count": 5,
   "id": "4c496c63",
   "metadata": {},
   "outputs": [],
   "source": [
    "pollutionData = pollutionData.merge(meteoData, how = 'inner', on = \"DateTime\")"
   ]
  },
  {
   "cell_type": "code",
   "execution_count": 6,
   "id": "1a4cb050",
   "metadata": {},
   "outputs": [],
   "source": [
    "del pollutionData['DateTime']"
   ]
  },
  {
   "cell_type": "code",
   "execution_count": 7,
   "id": "7b2211e8",
   "metadata": {},
   "outputs": [],
   "source": [
    "yData = pollutionData[['CO', 'NO2', 'O3', 'PM10', 'PM25', 'SO2']]"
   ]
  },
  {
   "cell_type": "code",
   "execution_count": 8,
   "id": "70f9cabb",
   "metadata": {},
   "outputs": [],
   "source": [
    "xData = pollutionData.drop(['CO', 'NO2', 'O3', 'PM10', 'PM25', 'SO2'], axis = 1)"
   ]
  },
  {
   "cell_type": "code",
   "execution_count": 9,
   "id": "9bf382b0",
   "metadata": {},
   "outputs": [],
   "source": [
    "class FullyConnected(nn.Module):\n",
    "    def __init__(self):\n",
    "        super(FullyConnected, self).__init__()\n",
    "                    \n",
    "        self.fnn = nn.Sequential(\n",
    "            nn.Linear(25, 64),\n",
    "            nn.ReLU(),\n",
    "            nn.Dropout(p = 0.2),\n",
    "            \n",
    "            nn.Linear(64, 128),\n",
    "            nn.ReLU(),\n",
    "            nn.Dropout(p = 0.2),\n",
    "            \n",
    "            nn.Linear(128, 64),\n",
    "            nn.ReLU(),\n",
    "            nn.Dropout(p = 0.2),\n",
    "            \n",
    "            nn.Linear(64, 6),\n",
    "            nn.ReLU()\n",
    "        )\n",
    "        \n",
    "    def forward(self, input):\n",
    "        return self.fnn(input)"
   ]
  },
  {
   "cell_type": "code",
   "execution_count": 10,
   "id": "82f73db4",
   "metadata": {},
   "outputs": [],
   "source": [
    "def mseLoss(target, output):\n",
    "    batchSize, _, _ = target.shape\n",
    "    # 32 x 1 x 7\n",
    "    mseSumm = 0\n",
    "    for _ in range(batchSize):\n",
    "        mseSumm = output - target"
   ]
  },
  {
   "cell_type": "code",
   "execution_count": 11,
   "id": "d3ce12c2",
   "metadata": {},
   "outputs": [],
   "source": [
    "def trainLoop(fnn, trainLoader, valLoader):\n",
    "    fnn.train()\n",
    "    optimizer = optim.Adam(fnn.parameters())\n",
    "    #criterion = torch.nn.MSELoss()\n",
    "    criterion = torch.nn.L1Loss()\n",
    "    \n",
    "    counterTrain = []\n",
    "    lossHistoryTrain = []\n",
    "\n",
    "    counterVal = []\n",
    "    lossHistoryVal = []\n",
    "    epochsSinceLastImprovement = 0\n",
    "    bestLoss = None\n",
    "    \n",
    "    EPOCHS = 500\n",
    "    \n",
    "    for epoch in tqdm(range(EPOCHS)):\n",
    "        \n",
    "        epochLoss = 0\n",
    "        \n",
    "        for batch_idx, (data, target) in enumerate(trainLoader):\n",
    "\n",
    "            optimizer.zero_grad()\n",
    "\n",
    "            data, target = data.to(device), target.to(device)\n",
    "\n",
    "            output = fnn(data)\n",
    "            loss = criterion(output, target)\n",
    "            \n",
    "            epochLoss += loss.item()\n",
    "            loss.backward()\n",
    "            optimizer.step()\n",
    "        \n",
    "        counterTrain.append(epoch)\n",
    "        lossHistoryTrain.append(epochLoss/len(trainLoader))\n",
    "        \n",
    "        with torch.no_grad():\n",
    "\n",
    "            validationLoss = 0\n",
    "\n",
    "            for batch_idx, (data, target) in enumerate(valLoader):\n",
    "                \n",
    "                data, target = data.to(device), target.to(device)\n",
    "\n",
    "                output = fnn(data)\n",
    "                loss = criterion(output, target)\n",
    "\n",
    "                validationLoss += loss.item()\n",
    "        \n",
    "        counterVal.append(epoch)\n",
    "        lossHistoryVal.append(validationLoss/len(valLoader))\n",
    "        \n",
    "        \n",
    "        if bestLoss is None:\n",
    "            bestLoss = validationLoss\n",
    "            bestModel = fnn.state_dict()\n",
    "\n",
    "        if validationLoss >= bestLoss:\n",
    "            epochsSinceLastImprovement += 1\n",
    "            if epochsSinceLastImprovement >= 50:\n",
    "                print(f\"Early stopped at epoch {epoch}!\")\n",
    "                fnn.load_state_dict(bestModel)\n",
    "                break\n",
    "        else:\n",
    "            epochsSinceLastImprovement = 0\n",
    "            bestLoss = validationLoss\n",
    "            bestModel = fnn.state_dict()\n",
    "            \n",
    "            \n",
    "    plt.plot(counterTrain, lossHistoryTrain)\n",
    "    plt.plot(counterVal, lossHistoryVal)\n",
    "    plt.legend(['mae_train', 'mae_val'])\n",
    "    plt.xlabel('EPOCHS')\n",
    "    plt.ylabel('MAE')\n",
    "    plt.show()"
   ]
  },
  {
   "cell_type": "code",
   "execution_count": 12,
   "id": "4b39d27a",
   "metadata": {},
   "outputs": [],
   "source": [
    "def testLoop(fnn, testLoader):\n",
    "    fnn.eval()\n",
    "    mseLoss = 0\n",
    "    maeLoss = 0\n",
    "    \n",
    "    optimizer = optim.Adam(fnn.parameters())\n",
    "    criterion = torch.nn.MSELoss()\n",
    "    criterionMAE = torch.nn.L1Loss()\n",
    "    \n",
    "    with torch.no_grad():\n",
    "        for data, target in testLoader:\n",
    "            data, target = data.to(device), target.to(device)\n",
    "            output = fnn(data)\n",
    "            \n",
    "            loss = criterion(output, target)\n",
    "            mseLoss += loss.item()\n",
    "            \n",
    "            loss = criterionMAE(output, target)\n",
    "            maeLoss += loss.item()\n",
    "\n",
    "    mseLoss /= len(testLoader)\n",
    "    maeLoss /= len(testLoader)\n",
    "\n",
    "    return mseLoss, maeLoss"
   ]
  },
  {
   "cell_type": "code",
   "execution_count": 13,
   "id": "399f008e",
   "metadata": {},
   "outputs": [],
   "source": [
    "device = torch.device(\"cuda\" if torch.cuda.is_available() else \"cpu\")"
   ]
  },
  {
   "cell_type": "code",
   "execution_count": 14,
   "id": "da617b97",
   "metadata": {},
   "outputs": [
    {
     "data": {
      "text/plain": [
       "FullyConnected(\n",
       "  (fnn): Sequential(\n",
       "    (0): Linear(in_features=25, out_features=64, bias=True)\n",
       "    (1): ReLU()\n",
       "    (2): Dropout(p=0.2, inplace=False)\n",
       "    (3): Linear(in_features=64, out_features=128, bias=True)\n",
       "    (4): ReLU()\n",
       "    (5): Dropout(p=0.2, inplace=False)\n",
       "    (6): Linear(in_features=128, out_features=64, bias=True)\n",
       "    (7): ReLU()\n",
       "    (8): Dropout(p=0.2, inplace=False)\n",
       "    (9): Linear(in_features=64, out_features=6, bias=True)\n",
       "    (10): ReLU()\n",
       "  )\n",
       ")"
      ]
     },
     "execution_count": 14,
     "metadata": {},
     "output_type": "execute_result"
    }
   ],
   "source": [
    "model = FullyConnected()\n",
    "model.to(device)"
   ]
  },
  {
   "cell_type": "code",
   "execution_count": 15,
   "id": "e92cfd33",
   "metadata": {},
   "outputs": [
    {
     "data": {
      "text/plain": [
       "CO      0\n",
       "NO2     0\n",
       "O3      0\n",
       "PM10    0\n",
       "PM25    0\n",
       "SO2     0\n",
       "dtype: int64"
      ]
     },
     "execution_count": 15,
     "metadata": {},
     "output_type": "execute_result"
    }
   ],
   "source": [
    "yData.isna().sum()"
   ]
  },
  {
   "cell_type": "code",
   "execution_count": 16,
   "id": "0cb6d447",
   "metadata": {},
   "outputs": [],
   "source": [
    "yData = [[y] for y in yData.values]\n",
    "yData = torch.Tensor(yData)"
   ]
  },
  {
   "cell_type": "code",
   "execution_count": 17,
   "id": "a46778bc",
   "metadata": {},
   "outputs": [],
   "source": [
    "xData = [[y] for y in xData.values]\n",
    "xData = torch.Tensor(xData)"
   ]
  },
  {
   "cell_type": "code",
   "execution_count": 18,
   "id": "491efb2a",
   "metadata": {},
   "outputs": [],
   "source": [
    "X_train, X_test, y_train, y_test = train_test_split(xData, yData, random_state = 12, test_size = 0.2)"
   ]
  },
  {
   "cell_type": "code",
   "execution_count": 19,
   "id": "44022bb7",
   "metadata": {},
   "outputs": [],
   "source": [
    "X_train, X_val, y_train, y_val = train_test_split(X_train, y_train, random_state = 12, test_size = 0.25)"
   ]
  },
  {
   "cell_type": "code",
   "execution_count": 20,
   "id": "e287bd14",
   "metadata": {},
   "outputs": [],
   "source": [
    "trainDataset = data_utils.TensorDataset(X_train, y_train)\n",
    "testDataset = data_utils.TensorDataset(X_test, y_test)\n",
    "valDataset = data_utils.TensorDataset(X_val, y_val)"
   ]
  },
  {
   "cell_type": "code",
   "execution_count": 21,
   "id": "e0ec18c1",
   "metadata": {},
   "outputs": [],
   "source": [
    "batchSize = 64"
   ]
  },
  {
   "cell_type": "code",
   "execution_count": 22,
   "id": "b921e91c",
   "metadata": {},
   "outputs": [],
   "source": [
    "trainLoader = DataLoader(trainDataset, shuffle=True, num_workers=0, batch_size=batchSize)"
   ]
  },
  {
   "cell_type": "code",
   "execution_count": 23,
   "id": "c681ae7b",
   "metadata": {},
   "outputs": [],
   "source": [
    "testLoader = DataLoader(testDataset, shuffle=True, num_workers=0, batch_size=batchSize)"
   ]
  },
  {
   "cell_type": "code",
   "execution_count": 24,
   "id": "63962f7c",
   "metadata": {},
   "outputs": [],
   "source": [
    "valLoader = DataLoader(valDataset,shuffle=True, num_workers=0, batch_size=batchSize)"
   ]
  },
  {
   "cell_type": "code",
   "execution_count": 25,
   "id": "730099cc",
   "metadata": {},
   "outputs": [
    {
     "name": "stderr",
     "output_type": "stream",
     "text": [
      " 49%|███████████████████████████████████████▏                                        | 245/500 [06:28<06:44,  1.58s/it]"
     ]
    },
    {
     "name": "stdout",
     "output_type": "stream",
     "text": [
      "Early stopped at epoch 245!\n"
     ]
    },
    {
     "name": "stderr",
     "output_type": "stream",
     "text": [
      "\n"
     ]
    },
    {
     "data": {
      "image/png": "[encoded data removed]",
      "text/plain": [
       "<Figure size 432x288 with 1 Axes>"
      ]
     },
     "metadata": {
      "needs_background": "light"
     },
     "output_type": "display_data"
    }
   ],
   "source": [
    "trainLoop(model, trainLoader, valLoader)"
   ]
  },
  {
   "cell_type": "code",
   "execution_count": 26,
   "id": "070fa7f8",
   "metadata": {},
   "outputs": [],
   "source": [
    "testLoss = testLoop(model, testLoader)"
   ]
  },
  {
   "cell_type": "code",
   "execution_count": 27,
   "id": "3b9a5b56",
   "metadata": {},
   "outputs": [
    {
     "data": {
      "text/plain": [
       "(1087.3933112584248, 12.577426312500949)"
      ]
     },
     "execution_count": 27,
     "metadata": {},
     "output_type": "execute_result"
    }
   ],
   "source": [
    "testLoss"
   ]
  },
  {
   "cell_type": "code",
   "execution_count": 28,
   "id": "c4c86f4f",
   "metadata": {},
   "outputs": [],
   "source": [
    "torch.save(model.state_dict(), \"modelPollution_\" + str(round(testLoss[1], 2)))"
   ]
  },
  {
   "cell_type": "code",
   "execution_count": 32,
   "id": "9aa3c601",
   "metadata": {},
   "outputs": [],
   "source": [
    "compiled_model = torch.jit.script(model)\n",
    "torch.jit.save(compiled_model, 'compiled_model.pt')"
   ]
  },
  {
   "cell_type": "code",
   "execution_count": null,
   "id": "964ec445",
   "metadata": {},
   "outputs": [],
   "source": []
  }
 ],
 "metadata": {
  "kernelspec": {
   "display_name": "Python 3",
   "language": "python",
   "name": "python3"
  },
  "language_info": {
   "codemirror_mode": {
    "name": "ipython",
    "version": 3
   },
   "file_extension": ".py",
   "mimetype": "text/x-python",
   "name": "python",
   "nbconvert_exporter": "python",
   "pygments_lexer": "ipython3",
   "version": "3.8.8"
  }
 },
 "nbformat": 4,
 "nbformat_minor": 5
}
