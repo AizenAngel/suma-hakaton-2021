{
 "cells": [
  {
   "cell_type": "code",
   "execution_count": 118,
   "metadata": {},
   "outputs": [],
   "source": [
    "import torch\n",
    "import pandas as pd\n",
    "import numpy as np\n",
    "import math\n",
    "import seaborn as sb\n",
    "import matplotlib.pyplot as plt\n",
    "import re"
   ]
  },
  {
   "cell_type": "code",
   "execution_count": 119,
   "metadata": {},
   "outputs": [
    {
     "data": {
      "text/plain": [
       "(78466, 23)"
      ]
     },
     "execution_count": 119,
     "metadata": {},
     "output_type": "execute_result"
    }
   ],
   "source": [
    "data1 = pd.read_csv(\"C:\\\\Users\\\\oliah\\\\Desktop\\podaci123.csv\",  low_memory=False)\n",
    "size, numAttributes = data1.shape\n",
    "size, numAttributes"
   ]
  },
  {
   "cell_type": "code",
   "execution_count": 120,
   "metadata": {
    "scrolled": true
   },
   "outputs": [
    {
     "ename": "KeyError",
     "evalue": "'Unnammed: 0'",
     "output_type": "error",
     "traceback": [
      "\u001b[1;31m---------------------------------------------------------------------------\u001b[0m",
      "\u001b[1;31mKeyError\u001b[0m                                  Traceback (most recent call last)",
      "\u001b[1;32m~\\anaconda3\\envs\\hakaton\\lib\\site-packages\\pandas\\core\\indexes\\base.py\u001b[0m in \u001b[0;36mget_loc\u001b[1;34m(self, key, method, tolerance)\u001b[0m\n\u001b[0;32m   3079\u001b[0m             \u001b[1;32mtry\u001b[0m\u001b[1;33m:\u001b[0m\u001b[1;33m\u001b[0m\u001b[1;33m\u001b[0m\u001b[0m\n\u001b[1;32m-> 3080\u001b[1;33m                 \u001b[1;32mreturn\u001b[0m \u001b[0mself\u001b[0m\u001b[1;33m.\u001b[0m\u001b[0m_engine\u001b[0m\u001b[1;33m.\u001b[0m\u001b[0mget_loc\u001b[0m\u001b[1;33m(\u001b[0m\u001b[0mcasted_key\u001b[0m\u001b[1;33m)\u001b[0m\u001b[1;33m\u001b[0m\u001b[1;33m\u001b[0m\u001b[0m\n\u001b[0m\u001b[0;32m   3081\u001b[0m             \u001b[1;32mexcept\u001b[0m \u001b[0mKeyError\u001b[0m \u001b[1;32mas\u001b[0m \u001b[0merr\u001b[0m\u001b[1;33m:\u001b[0m\u001b[1;33m\u001b[0m\u001b[1;33m\u001b[0m\u001b[0m\n",
      "\u001b[1;32mpandas\\_libs\\index.pyx\u001b[0m in \u001b[0;36mpandas._libs.index.IndexEngine.get_loc\u001b[1;34m()\u001b[0m\n",
      "\u001b[1;32mpandas\\_libs\\index.pyx\u001b[0m in \u001b[0;36mpandas._libs.index.IndexEngine.get_loc\u001b[1;34m()\u001b[0m\n",
      "\u001b[1;32mpandas\\_libs\\hashtable_class_helper.pxi\u001b[0m in \u001b[0;36mpandas._libs.hashtable.PyObjectHashTable.get_item\u001b[1;34m()\u001b[0m\n",
      "\u001b[1;32mpandas\\_libs\\hashtable_class_helper.pxi\u001b[0m in \u001b[0;36mpandas._libs.hashtable.PyObjectHashTable.get_item\u001b[1;34m()\u001b[0m\n",
      "\u001b[1;31mKeyError\u001b[0m: 'Unnammed: 0'",
      "\nThe above exception was the direct cause of the following exception:\n",
      "\u001b[1;31mKeyError\u001b[0m                                  Traceback (most recent call last)",
      "\u001b[1;32m<ipython-input-120-63aeb3cb4522>\u001b[0m in \u001b[0;36m<module>\u001b[1;34m\u001b[0m\n\u001b[0;32m      1\u001b[0m \u001b[0mdata1\u001b[0m\u001b[1;33m.\u001b[0m\u001b[0mhead\u001b[0m\u001b[1;33m(\u001b[0m\u001b[1;33m)\u001b[0m\u001b[1;33m\u001b[0m\u001b[1;33m\u001b[0m\u001b[0m\n\u001b[1;32m----> 2\u001b[1;33m \u001b[1;32mdel\u001b[0m \u001b[0mdata1\u001b[0m\u001b[1;33m[\u001b[0m\u001b[1;34m'Unnammed: 0'\u001b[0m\u001b[1;33m]\u001b[0m\u001b[1;33m\u001b[0m\u001b[1;33m\u001b[0m\u001b[0m\n\u001b[0m\u001b[0;32m      3\u001b[0m \u001b[1;32mdel\u001b[0m \u001b[0mdata1\u001b[0m\u001b[1;33m[\u001b[0m\u001b[1;34m'Unnammed: 1'\u001b[0m\u001b[1;33m]\u001b[0m\u001b[1;33m\u001b[0m\u001b[1;33m\u001b[0m\u001b[0m\n",
      "\u001b[1;32m~\\anaconda3\\envs\\hakaton\\lib\\site-packages\\pandas\\core\\generic.py\u001b[0m in \u001b[0;36m__delitem__\u001b[1;34m(self, key)\u001b[0m\n\u001b[0;32m   3964\u001b[0m             \u001b[1;31m# there was no match, this call should raise the appropriate\u001b[0m\u001b[1;33m\u001b[0m\u001b[1;33m\u001b[0m\u001b[1;33m\u001b[0m\u001b[0m\n\u001b[0;32m   3965\u001b[0m             \u001b[1;31m# exception:\u001b[0m\u001b[1;33m\u001b[0m\u001b[1;33m\u001b[0m\u001b[1;33m\u001b[0m\u001b[0m\n\u001b[1;32m-> 3966\u001b[1;33m             \u001b[0mloc\u001b[0m \u001b[1;33m=\u001b[0m \u001b[0mself\u001b[0m\u001b[1;33m.\u001b[0m\u001b[0maxes\u001b[0m\u001b[1;33m[\u001b[0m\u001b[1;33m-\u001b[0m\u001b[1;36m1\u001b[0m\u001b[1;33m]\u001b[0m\u001b[1;33m.\u001b[0m\u001b[0mget_loc\u001b[0m\u001b[1;33m(\u001b[0m\u001b[0mkey\u001b[0m\u001b[1;33m)\u001b[0m\u001b[1;33m\u001b[0m\u001b[1;33m\u001b[0m\u001b[0m\n\u001b[0m\u001b[0;32m   3967\u001b[0m             \u001b[0mself\u001b[0m\u001b[1;33m.\u001b[0m\u001b[0m_mgr\u001b[0m\u001b[1;33m.\u001b[0m\u001b[0midelete\u001b[0m\u001b[1;33m(\u001b[0m\u001b[0mloc\u001b[0m\u001b[1;33m)\u001b[0m\u001b[1;33m\u001b[0m\u001b[1;33m\u001b[0m\u001b[0m\n\u001b[0;32m   3968\u001b[0m \u001b[1;33m\u001b[0m\u001b[0m\n",
      "\u001b[1;32m~\\anaconda3\\envs\\hakaton\\lib\\site-packages\\pandas\\core\\indexes\\base.py\u001b[0m in \u001b[0;36mget_loc\u001b[1;34m(self, key, method, tolerance)\u001b[0m\n\u001b[0;32m   3080\u001b[0m                 \u001b[1;32mreturn\u001b[0m \u001b[0mself\u001b[0m\u001b[1;33m.\u001b[0m\u001b[0m_engine\u001b[0m\u001b[1;33m.\u001b[0m\u001b[0mget_loc\u001b[0m\u001b[1;33m(\u001b[0m\u001b[0mcasted_key\u001b[0m\u001b[1;33m)\u001b[0m\u001b[1;33m\u001b[0m\u001b[1;33m\u001b[0m\u001b[0m\n\u001b[0;32m   3081\u001b[0m             \u001b[1;32mexcept\u001b[0m \u001b[0mKeyError\u001b[0m \u001b[1;32mas\u001b[0m \u001b[0merr\u001b[0m\u001b[1;33m:\u001b[0m\u001b[1;33m\u001b[0m\u001b[1;33m\u001b[0m\u001b[0m\n\u001b[1;32m-> 3082\u001b[1;33m                 \u001b[1;32mraise\u001b[0m \u001b[0mKeyError\u001b[0m\u001b[1;33m(\u001b[0m\u001b[0mkey\u001b[0m\u001b[1;33m)\u001b[0m \u001b[1;32mfrom\u001b[0m \u001b[0merr\u001b[0m\u001b[1;33m\u001b[0m\u001b[1;33m\u001b[0m\u001b[0m\n\u001b[0m\u001b[0;32m   3083\u001b[0m \u001b[1;33m\u001b[0m\u001b[0m\n\u001b[0;32m   3084\u001b[0m         \u001b[1;32mif\u001b[0m \u001b[0mtolerance\u001b[0m \u001b[1;32mis\u001b[0m \u001b[1;32mnot\u001b[0m \u001b[1;32mNone\u001b[0m\u001b[1;33m:\u001b[0m\u001b[1;33m\u001b[0m\u001b[1;33m\u001b[0m\u001b[0m\n",
      "\u001b[1;31mKeyError\u001b[0m: 'Unnammed: 0'"
     ]
    }
   ],
   "source": [
    "data1.head()\n",
    "del data1['Unnammed: 0']\n",
    "del data1['Unnammed: 1']"
   ]
  },
  {
   "cell_type": "code",
   "execution_count": 121,
   "metadata": {
    "scrolled": true
   },
   "outputs": [],
   "source": [
    "Nh_str = data1[\"Nh\"].astype(str)"
   ]
  },
  {
   "cell_type": "code",
   "execution_count": 122,
   "metadata": {},
   "outputs": [],
   "source": [
    "for (index, d) in enumerate(Nh_str):\n",
    "    if d == \"no clouds\":\n",
    "        data1.iloc[index, 18] = 0\n",
    "        continue\n",
    "    \n",
    "    if d == \"40%.\":\n",
    "        data1.iloc[index, 18] = 40\n",
    "        continue\n",
    "        \n",
    "    if d == '20ñ30%.':\n",
    "        data1.iloc[index, 18] = 25\n",
    "        continue\n",
    "    \n",
    "    if d == \"60%.\":\n",
    "        data1.iloc[index, 18] = 60\n",
    "        continue\n",
    "        \n",
    "    if d == '70 ñ 80%.':\n",
    "        data1.iloc[index, 18] = 75\n",
    "        continue\n",
    "        \n",
    "    if d == '90  or more, but not 100%':\n",
    "        data1.iloc[index, 18] = 95\n",
    "        continue\n",
    "            \n",
    "    if d == '50%.':\n",
    "        data1.iloc[index, 18] = 50\n",
    "        continue\n",
    "        \n",
    "    if d == '100%.':\n",
    "        data1.iloc[index, 18] = 100\n",
    "        continue\n",
    "        \n",
    "    if d == '10%  or less, but not 0':\n",
    "        data1.iloc[index, 18] = 5\n",
    "        continue\n",
    "        \n",
    "    if d == 'Sky obscured by fog and/or other meteorological phenomena.':\n",
    "        #print( data1[\"N\"][index])\n",
    "        data1.iloc[index, 18] = 100\n",
    "        continue\n",
    "        \n",
    "    if d == 'nan':\n",
    "        newD = data1[\"N\"][index]\n",
    "        if newD == \"No Significant Clouds\":\n",
    "            data1.iloc[index, 18] = 0\n",
    "            continue\n",
    "        \n",
    "        regex = '(\\d\\d)-(\\d\\d)'\n",
    "\n",
    "        h = re.search(regex, newD)\n",
    "        \n",
    "        \n",
    "        if h:\n",
    "            data1.iloc[index, 18] = int(h.group(1)) + (int(h.group(2)) - int(h.group(1))) / 2\n",
    "        else:\n",
    "            if newD == \"no clouds\" or newD == \"No clouds\":\n",
    "                data1.iloc[index, 18] = 0\n",
    "                continue\n",
    "            \n",
    "            if re.search('100%', newD) or re.search('Sky obscured by fog and/or other meteorological phenomena.', newD):\n",
    "                data1.iloc[index, 18] = 100\n",
    "                continue\n",
    "            \n",
    "            if re.search('Vertical visibility 30 m', newD):\n",
    "                data1.iloc[index, 18] = 90\n",
    "                continue\n",
    "                \n",
    "            if re.search('Vertical visibility 60 m', newD):\n",
    "                data1.iloc[index, 18] = 70\n",
    "                continue\n",
    "            \n",
    "            if re.search('Vertical visibility 90 m', newD):\n",
    "                data1.iloc[index, 18] = 70\n",
    "                continue\n",
    "   \n",
    "            if re.search('90  or more, but not 100%', newD):\n",
    "                data1.iloc[index, 18] = 90\n",
    "                continue\n",
    "                \n",
    "            if re.search('10%  or less, but not 0', newD):\n",
    "                data1.iloc[index, 18] = 10\n",
    "                continue\n",
    "            \n",
    "            if newD == '40%.':\n",
    "                data1.iloc[index, 18] = 40\n",
    "                continue\n",
    "            \n",
    "            if re.search('20ñ30%.', newD):\n",
    "                data1.iloc[index, 18] = 25\n",
    "                continue"
   ]
  },
  {
   "cell_type": "code",
   "execution_count": 123,
   "metadata": {},
   "outputs": [
    {
     "data": {
      "text/plain": [
       "Unnamed: 0          0\n",
       "Unnamed: 0.1        0\n",
       "DateTime            0\n",
       "T                   0\n",
       "Po                  0\n",
       "P                   0\n",
       "Pa              23095\n",
       "U                   0\n",
       "DD                  0\n",
       "Ff              36774\n",
       "ff10            71281\n",
       "ff3             78131\n",
       "N                   0\n",
       "Tn              76255\n",
       "Tx              76249\n",
       "Nh              46622\n",
       "H               53192\n",
       "Cm              48357\n",
       "Ch                  0\n",
       "VV              41399\n",
       "Td              36860\n",
       "RRR             74517\n",
       "sss                 0\n",
       "dtype: int64"
      ]
     },
     "execution_count": 123,
     "metadata": {},
     "output_type": "execute_result"
    }
   ],
   "source": [
    "data1.isna().sum()"
   ]
  },
  {
   "cell_type": "code",
   "execution_count": 124,
   "metadata": {},
   "outputs": [],
   "source": [
    "del data1['ff10']\n",
    "del data1['ff3']   # malo vrednosti, isto kao ff\n",
    "\n",
    "\n",
    "del data1['Pa']   # ne secam se sta je\n",
    "\n",
    "del data1['Nh']   # iskoristili N umesto ovoga\n",
    "\n",
    "\n",
    "del data1['Tn']  # malo vrednsti isto kao T\n",
    "del data1['Tx']  # \n",
    "del data1['Td']  # \n",
    "\n",
    "del data1['RRR'] # kolko kise malo vrednosti\n",
    "\n",
    "del data1['Cm'] # na latinskom, moze u kategoricke zajedno sa Cl i Ch, potencijalno ukljuci za oblake\n",
    "del data1['Ch']"
   ]
  },
  {
   "cell_type": "code",
   "execution_count": 125,
   "metadata": {},
   "outputs": [
    {
     "data": {
      "text/plain": [
       "Unnamed: 0          0\n",
       "Unnamed: 0.1        0\n",
       "DateTime            0\n",
       "T                   0\n",
       "Po                  0\n",
       "P                   0\n",
       "U                   0\n",
       "DD                  0\n",
       "Ff              36774\n",
       "N                   0\n",
       "H               53192\n",
       "VV              41399\n",
       "sss                 0\n",
       "dtype: int64"
      ]
     },
     "execution_count": 125,
     "metadata": {},
     "output_type": "execute_result"
    }
   ],
   "source": [
    "data1.isna().sum()"
   ]
  },
  {
   "cell_type": "code",
   "execution_count": null,
   "metadata": {},
   "outputs": [],
   "source": []
  }
 ],
 "metadata": {
  "kernelspec": {
   "display_name": "Python 3",
   "language": "python",
   "name": "python3"
  },
  "language_info": {
   "codemirror_mode": {
    "name": "ipython",
    "version": 3
   },
   "file_extension": ".py",
   "mimetype": "text/x-python",
   "name": "python",
   "nbconvert_exporter": "python",
   "pygments_lexer": "ipython3",
   "version": "3.8.8"
  }
 },
 "nbformat": 4,
 "nbformat_minor": 4
}
